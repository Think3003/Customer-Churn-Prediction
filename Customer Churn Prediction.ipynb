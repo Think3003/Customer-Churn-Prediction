{
 "cells": [
  {
   "cell_type": "markdown",
   "id": "0d7e3a9e",
   "metadata": {},
   "source": [
    "# Data Description."
   ]
  },
  {
   "cell_type": "code",
   "execution_count": 1,
   "id": "9fc0ee2b",
   "metadata": {},
   "outputs": [],
   "source": [
    "import pandas as pd\n",
    "import numpy as np"
   ]
  },
  {
   "cell_type": "code",
   "execution_count": 2,
   "id": "7bc0c5be",
   "metadata": {},
   "outputs": [],
   "source": [
    "df=pd.read_csv(r\"C:\\Users\\ridam\\Documents\\telecom_customer_churn.csv(n).csv\")"
   ]
  },
  {
   "cell_type": "code",
   "execution_count": 3,
   "id": "36c51352",
   "metadata": {},
   "outputs": [
    {
     "data": {
      "text/html": [
       "<div>\n",
       "<style scoped>\n",
       "    .dataframe tbody tr th:only-of-type {\n",
       "        vertical-align: middle;\n",
       "    }\n",
       "\n",
       "    .dataframe tbody tr th {\n",
       "        vertical-align: top;\n",
       "    }\n",
       "\n",
       "    .dataframe thead th {\n",
       "        text-align: right;\n",
       "    }\n",
       "</style>\n",
       "<table border=\"1\" class=\"dataframe\">\n",
       "  <thead>\n",
       "    <tr style=\"text-align: right;\">\n",
       "      <th></th>\n",
       "      <th>Customer ID</th>\n",
       "      <th>Gender</th>\n",
       "      <th>Age</th>\n",
       "      <th>Married</th>\n",
       "      <th>Number of Dependents</th>\n",
       "      <th>City</th>\n",
       "      <th>Zip Code</th>\n",
       "      <th>Latitude</th>\n",
       "      <th>Longitude</th>\n",
       "      <th>Number of Referrals</th>\n",
       "      <th>...</th>\n",
       "      <th>Payment Method</th>\n",
       "      <th>Monthly Charge</th>\n",
       "      <th>Total Charges</th>\n",
       "      <th>Total Refunds</th>\n",
       "      <th>Total Extra Data Charges</th>\n",
       "      <th>Total Long Distance Charges</th>\n",
       "      <th>Total Revenue</th>\n",
       "      <th>Customer_Status</th>\n",
       "      <th>Churn Category</th>\n",
       "      <th>Churn_Reason</th>\n",
       "    </tr>\n",
       "  </thead>\n",
       "  <tbody>\n",
       "    <tr>\n",
       "      <th>0</th>\n",
       "      <td>1635-FJFCC</td>\n",
       "      <td>Female</td>\n",
       "      <td>46</td>\n",
       "      <td>No</td>\n",
       "      <td>0</td>\n",
       "      <td>Acton</td>\n",
       "      <td>93510</td>\n",
       "      <td>34.501452</td>\n",
       "      <td>-118.207862</td>\n",
       "      <td>0</td>\n",
       "      <td>...</td>\n",
       "      <td>Credit Card</td>\n",
       "      <td>44.05</td>\n",
       "      <td>202.15</td>\n",
       "      <td>0.0</td>\n",
       "      <td>0</td>\n",
       "      <td>54.95</td>\n",
       "      <td>257.10</td>\n",
       "      <td>Stayed</td>\n",
       "      <td>NaN</td>\n",
       "      <td>NaN</td>\n",
       "    </tr>\n",
       "    <tr>\n",
       "      <th>1</th>\n",
       "      <td>3312-ZWLGF</td>\n",
       "      <td>Male</td>\n",
       "      <td>69</td>\n",
       "      <td>Yes</td>\n",
       "      <td>0</td>\n",
       "      <td>Acton</td>\n",
       "      <td>93510</td>\n",
       "      <td>34.501452</td>\n",
       "      <td>-118.207862</td>\n",
       "      <td>0</td>\n",
       "      <td>...</td>\n",
       "      <td>Bank Withdrawal</td>\n",
       "      <td>79.30</td>\n",
       "      <td>2414.55</td>\n",
       "      <td>0.0</td>\n",
       "      <td>0</td>\n",
       "      <td>305.95</td>\n",
       "      <td>2720.50</td>\n",
       "      <td>Stayed</td>\n",
       "      <td>NaN</td>\n",
       "      <td>NaN</td>\n",
       "    </tr>\n",
       "    <tr>\n",
       "      <th>2</th>\n",
       "      <td>6143-JQKEA</td>\n",
       "      <td>Male</td>\n",
       "      <td>34</td>\n",
       "      <td>No</td>\n",
       "      <td>0</td>\n",
       "      <td>Adelanto</td>\n",
       "      <td>92301</td>\n",
       "      <td>34.667815</td>\n",
       "      <td>-117.536183</td>\n",
       "      <td>0</td>\n",
       "      <td>...</td>\n",
       "      <td>Credit Card</td>\n",
       "      <td>45.80</td>\n",
       "      <td>436.20</td>\n",
       "      <td>0.0</td>\n",
       "      <td>0</td>\n",
       "      <td>154.50</td>\n",
       "      <td>590.70</td>\n",
       "      <td>Stayed</td>\n",
       "      <td>NaN</td>\n",
       "      <td>NaN</td>\n",
       "    </tr>\n",
       "    <tr>\n",
       "      <th>3</th>\n",
       "      <td>8993-IZEUX</td>\n",
       "      <td>Male</td>\n",
       "      <td>54</td>\n",
       "      <td>No</td>\n",
       "      <td>0</td>\n",
       "      <td>Adin</td>\n",
       "      <td>96006</td>\n",
       "      <td>41.171578</td>\n",
       "      <td>-120.913161</td>\n",
       "      <td>0</td>\n",
       "      <td>...</td>\n",
       "      <td>Bank Withdrawal</td>\n",
       "      <td>69.15</td>\n",
       "      <td>488.65</td>\n",
       "      <td>0.0</td>\n",
       "      <td>0</td>\n",
       "      <td>147.84</td>\n",
       "      <td>636.49</td>\n",
       "      <td>Stayed</td>\n",
       "      <td>NaN</td>\n",
       "      <td>NaN</td>\n",
       "    </tr>\n",
       "    <tr>\n",
       "      <th>4</th>\n",
       "      <td>6990-YNRIO</td>\n",
       "      <td>Male</td>\n",
       "      <td>53</td>\n",
       "      <td>Yes</td>\n",
       "      <td>0</td>\n",
       "      <td>Agoura Hills</td>\n",
       "      <td>91301</td>\n",
       "      <td>34.129058</td>\n",
       "      <td>-118.759788</td>\n",
       "      <td>0</td>\n",
       "      <td>...</td>\n",
       "      <td>Bank Withdrawal</td>\n",
       "      <td>108.65</td>\n",
       "      <td>6937.95</td>\n",
       "      <td>0.0</td>\n",
       "      <td>0</td>\n",
       "      <td>2722.20</td>\n",
       "      <td>9660.15</td>\n",
       "      <td>Churned</td>\n",
       "      <td>Attitude</td>\n",
       "      <td>Attitude of support person</td>\n",
       "    </tr>\n",
       "  </tbody>\n",
       "</table>\n",
       "<p>5 rows × 38 columns</p>\n",
       "</div>"
      ],
      "text/plain": [
       "  Customer ID  Gender  Age Married  Number of Dependents          City  \\\n",
       "0  1635-FJFCC  Female   46      No                     0         Acton   \n",
       "1  3312-ZWLGF    Male   69     Yes                     0         Acton   \n",
       "2  6143-JQKEA    Male   34      No                     0      Adelanto   \n",
       "3  8993-IZEUX    Male   54      No                     0          Adin   \n",
       "4  6990-YNRIO    Male   53     Yes                     0  Agoura Hills   \n",
       "\n",
       "   Zip Code   Latitude   Longitude  Number of Referrals  ...   Payment Method  \\\n",
       "0     93510  34.501452 -118.207862                    0  ...      Credit Card   \n",
       "1     93510  34.501452 -118.207862                    0  ...  Bank Withdrawal   \n",
       "2     92301  34.667815 -117.536183                    0  ...      Credit Card   \n",
       "3     96006  41.171578 -120.913161                    0  ...  Bank Withdrawal   \n",
       "4     91301  34.129058 -118.759788                    0  ...  Bank Withdrawal   \n",
       "\n",
       "  Monthly Charge Total Charges  Total Refunds Total Extra Data Charges  \\\n",
       "0          44.05        202.15            0.0                        0   \n",
       "1          79.30       2414.55            0.0                        0   \n",
       "2          45.80        436.20            0.0                        0   \n",
       "3          69.15        488.65            0.0                        0   \n",
       "4         108.65       6937.95            0.0                        0   \n",
       "\n",
       "  Total Long Distance Charges Total Revenue  Customer_Status Churn Category  \\\n",
       "0                       54.95        257.10           Stayed            NaN   \n",
       "1                      305.95       2720.50           Stayed            NaN   \n",
       "2                      154.50        590.70           Stayed            NaN   \n",
       "3                      147.84        636.49           Stayed            NaN   \n",
       "4                     2722.20       9660.15          Churned       Attitude   \n",
       "\n",
       "                 Churn_Reason  \n",
       "0                         NaN  \n",
       "1                         NaN  \n",
       "2                         NaN  \n",
       "3                         NaN  \n",
       "4  Attitude of support person  \n",
       "\n",
       "[5 rows x 38 columns]"
      ]
     },
     "execution_count": 3,
     "metadata": {},
     "output_type": "execute_result"
    }
   ],
   "source": [
    "df.head()"
   ]
  },
  {
   "cell_type": "code",
   "execution_count": 91,
   "id": "5282c0e5",
   "metadata": {},
   "outputs": [
    {
     "name": "stdout",
     "output_type": "stream",
     "text": [
      "<class 'pandas.core.frame.DataFrame'>\n",
      "RangeIndex: 7043 entries, 0 to 7042\n",
      "Data columns (total 38 columns):\n",
      " #   Column                             Non-Null Count  Dtype  \n",
      "---  ------                             --------------  -----  \n",
      " 0   Customer ID                        7043 non-null   int32  \n",
      " 1   Gender                             7043 non-null   int32  \n",
      " 2   Age                                7043 non-null   float64\n",
      " 3   Married                            7043 non-null   float64\n",
      " 4   Number of Dependents               7043 non-null   float64\n",
      " 5   City                               7043 non-null   int32  \n",
      " 6   Zip Code                           7043 non-null   float64\n",
      " 7   Latitude                           7043 non-null   float64\n",
      " 8   Longitude                          7043 non-null   float64\n",
      " 9   Number of Referrals                7043 non-null   int64  \n",
      " 10  Tenure in Months                   7043 non-null   float64\n",
      " 11  Offer                              7043 non-null   float64\n",
      " 12  PhoneService                       7043 non-null   float64\n",
      " 13  Avg Monthly Long Distance Charges  7043 non-null   float64\n",
      " 14  Multiple_Lines                     7043 non-null   float64\n",
      " 15  Internet_Service                   7043 non-null   float64\n",
      " 16  Internet _Type                     7043 non-null   float64\n",
      " 17  Avg Monthly GB Download            7043 non-null   float64\n",
      " 18  Online_Security                    7043 non-null   float64\n",
      " 19  Online_Backup                      7043 non-null   float64\n",
      " 20  Device_Protection_Plan             7043 non-null   float64\n",
      " 21  Premium _Tech _Support             7043 non-null   float64\n",
      " 22  Streaming TV                       7043 non-null   float64\n",
      " 23  Streaming Movies                   7043 non-null   float64\n",
      " 24  Streaming Music                    7043 non-null   float64\n",
      " 25  Unlimited Data                     7043 non-null   float64\n",
      " 26  Contract                           7043 non-null   float64\n",
      " 27  Paperless Billing                  7043 non-null   int32  \n",
      " 28  Payment Method                     7043 non-null   float64\n",
      " 29  Monthly Charge                     7043 non-null   float64\n",
      " 30  Total Charges                      7043 non-null   float64\n",
      " 31  Total Refunds                      7043 non-null   float64\n",
      " 32  Total Extra Data Charges           7043 non-null   float64\n",
      " 33  Total Long Distance Charges        7043 non-null   float64\n",
      " 34  Total Revenue                      7043 non-null   float64\n",
      " 35  Customer_Status                    7043 non-null   int32  \n",
      " 36  Churn Category                     7043 non-null   int32  \n",
      " 37  Churn_Reason                       1869 non-null   object \n",
      "dtypes: float64(30), int32(6), int64(1), object(1)\n",
      "memory usage: 1.9+ MB\n"
     ]
    }
   ],
   "source": [
    "df.info()"
   ]
  },
  {
   "cell_type": "markdown",
   "id": "1242c1d1",
   "metadata": {},
   "source": [
    "# Preprocessing"
   ]
  },
  {
   "cell_type": "code",
   "execution_count": 4,
   "id": "2dded84e",
   "metadata": {},
   "outputs": [
    {
     "data": {
      "text/plain": [
       "Customer ID                             0\n",
       "Gender                                  0\n",
       "Age                                     0\n",
       "Married                                 0\n",
       "Number of Dependents                    0\n",
       "City                                    0\n",
       "Zip Code                                0\n",
       "Latitude                                0\n",
       "Longitude                               0\n",
       "Number of Referrals                     0\n",
       "Tenure in Months                        0\n",
       "Offer                                   0\n",
       "PhoneService                            0\n",
       "Avg Monthly Long Distance Charges     682\n",
       "Multiple_Lines                        682\n",
       "Internet_Service                        0\n",
       "Internet _Type                       1526\n",
       "Avg Monthly GB Download              1526\n",
       "Online_Security                      1526\n",
       "Online_Backup                        1526\n",
       "Device_Protection_Plan               1526\n",
       "Premium _Tech _Support               1526\n",
       "Streaming TV                         1526\n",
       "Streaming Movies                     1526\n",
       "Streaming Music                      1526\n",
       "Unlimited Data                       1526\n",
       "Contract                                0\n",
       "Paperless Billing                       0\n",
       "Payment Method                          0\n",
       "Monthly Charge                          0\n",
       "Total Charges                           0\n",
       "Total Refunds                           0\n",
       "Total Extra Data Charges                0\n",
       "Total Long Distance Charges             0\n",
       "Total Revenue                           0\n",
       "Customer_Status                         0\n",
       "Churn Category                       5174\n",
       "Churn_Reason                         5174\n",
       "dtype: int64"
      ]
     },
     "execution_count": 4,
     "metadata": {},
     "output_type": "execute_result"
    }
   ],
   "source": [
    "df.isnull().sum()"
   ]
  },
  {
   "cell_type": "code",
   "execution_count": 5,
   "id": "52300dae",
   "metadata": {},
   "outputs": [
    {
     "data": {
      "text/plain": [
       "Index(['Customer ID', 'Gender', 'Age', 'Married', 'Number of Dependents',\n",
       "       'City', 'Zip Code', 'Latitude', 'Longitude', 'Number of Referrals',\n",
       "       'Tenure in Months', 'Offer', 'PhoneService',\n",
       "       'Avg Monthly Long Distance Charges', 'Multiple_Lines',\n",
       "       'Internet_Service', 'Internet _Type', 'Avg Monthly GB Download',\n",
       "       'Online_Security', 'Online_Backup', 'Device_Protection_Plan',\n",
       "       'Premium _Tech _Support', 'Streaming TV', 'Streaming Movies',\n",
       "       'Streaming Music', 'Unlimited Data', 'Contract', 'Paperless Billing',\n",
       "       'Payment Method', 'Monthly Charge', 'Total Charges', 'Total Refunds',\n",
       "       'Total Extra Data Charges', 'Total Long Distance Charges',\n",
       "       'Total Revenue', 'Customer_Status', 'Churn Category'],\n",
       "      dtype='object')"
      ]
     },
     "execution_count": 5,
     "metadata": {},
     "output_type": "execute_result"
    }
   ],
   "source": [
    "columns=df.columns.drop(\"Churn_Reason\")\n",
    "columns"
   ]
  },
  {
   "cell_type": "code",
   "execution_count": 6,
   "id": "4fd2fc06",
   "metadata": {},
   "outputs": [],
   "source": [
    "principal_locality={}\n",
    "for col in columns:\n",
    "    principal_locality[col]=df[col].mode()[0]\n",
    "    df[col].fillna(principal_locality[col],inplace=True)"
   ]
  },
  {
   "cell_type": "code",
   "execution_count": 7,
   "id": "585750a5",
   "metadata": {},
   "outputs": [
    {
     "data": {
      "text/plain": [
       "Customer ID                             0\n",
       "Gender                                  0\n",
       "Age                                     0\n",
       "Married                                 0\n",
       "Number of Dependents                    0\n",
       "City                                    0\n",
       "Zip Code                                0\n",
       "Latitude                                0\n",
       "Longitude                               0\n",
       "Number of Referrals                     0\n",
       "Tenure in Months                        0\n",
       "Offer                                   0\n",
       "PhoneService                            0\n",
       "Avg Monthly Long Distance Charges       0\n",
       "Multiple_Lines                          0\n",
       "Internet_Service                        0\n",
       "Internet _Type                          0\n",
       "Avg Monthly GB Download                 0\n",
       "Online_Security                         0\n",
       "Online_Backup                           0\n",
       "Device_Protection_Plan                  0\n",
       "Premium _Tech _Support                  0\n",
       "Streaming TV                            0\n",
       "Streaming Movies                        0\n",
       "Streaming Music                         0\n",
       "Unlimited Data                          0\n",
       "Contract                                0\n",
       "Paperless Billing                       0\n",
       "Payment Method                          0\n",
       "Monthly Charge                          0\n",
       "Total Charges                           0\n",
       "Total Refunds                           0\n",
       "Total Extra Data Charges                0\n",
       "Total Long Distance Charges             0\n",
       "Total Revenue                           0\n",
       "Customer_Status                         0\n",
       "Churn Category                          0\n",
       "Churn_Reason                         5174\n",
       "dtype: int64"
      ]
     },
     "execution_count": 7,
     "metadata": {},
     "output_type": "execute_result"
    }
   ],
   "source": [
    "df.isnull().sum()"
   ]
  },
  {
   "cell_type": "markdown",
   "id": "55b7b656",
   "metadata": {},
   "source": [
    "# Encoding"
   ]
  },
  {
   "cell_type": "code",
   "execution_count": 8,
   "id": "ca5f1893",
   "metadata": {},
   "outputs": [],
   "source": [
    "df_cat=df.select_dtypes(object)\n",
    "df_num=df.select_dtypes(np.number)"
   ]
  },
  {
   "cell_type": "code",
   "execution_count": 9,
   "id": "58fcfa8d",
   "metadata": {},
   "outputs": [
    {
     "data": {
      "text/html": [
       "<div>\n",
       "<style scoped>\n",
       "    .dataframe tbody tr th:only-of-type {\n",
       "        vertical-align: middle;\n",
       "    }\n",
       "\n",
       "    .dataframe tbody tr th {\n",
       "        vertical-align: top;\n",
       "    }\n",
       "\n",
       "    .dataframe thead th {\n",
       "        text-align: right;\n",
       "    }\n",
       "</style>\n",
       "<table border=\"1\" class=\"dataframe\">\n",
       "  <thead>\n",
       "    <tr style=\"text-align: right;\">\n",
       "      <th></th>\n",
       "      <th>Customer ID</th>\n",
       "      <th>Gender</th>\n",
       "      <th>Married</th>\n",
       "      <th>City</th>\n",
       "      <th>Offer</th>\n",
       "      <th>PhoneService</th>\n",
       "      <th>Multiple_Lines</th>\n",
       "      <th>Internet_Service</th>\n",
       "      <th>Internet _Type</th>\n",
       "      <th>Online_Security</th>\n",
       "      <th>...</th>\n",
       "      <th>Streaming TV</th>\n",
       "      <th>Streaming Movies</th>\n",
       "      <th>Streaming Music</th>\n",
       "      <th>Unlimited Data</th>\n",
       "      <th>Contract</th>\n",
       "      <th>Paperless Billing</th>\n",
       "      <th>Payment Method</th>\n",
       "      <th>Customer_Status</th>\n",
       "      <th>Churn Category</th>\n",
       "      <th>Churn_Reason</th>\n",
       "    </tr>\n",
       "  </thead>\n",
       "  <tbody>\n",
       "    <tr>\n",
       "      <th>0</th>\n",
       "      <td>1635-FJFCC</td>\n",
       "      <td>Female</td>\n",
       "      <td>No</td>\n",
       "      <td>Acton</td>\n",
       "      <td>None</td>\n",
       "      <td>Yes</td>\n",
       "      <td>No</td>\n",
       "      <td>Yes</td>\n",
       "      <td>DSL</td>\n",
       "      <td>No</td>\n",
       "      <td>...</td>\n",
       "      <td>No</td>\n",
       "      <td>No</td>\n",
       "      <td>No</td>\n",
       "      <td>Yes</td>\n",
       "      <td>Month-to-Month</td>\n",
       "      <td>Yes</td>\n",
       "      <td>Credit Card</td>\n",
       "      <td>Stayed</td>\n",
       "      <td>Competitor</td>\n",
       "      <td>NaN</td>\n",
       "    </tr>\n",
       "    <tr>\n",
       "      <th>1</th>\n",
       "      <td>3312-ZWLGF</td>\n",
       "      <td>Male</td>\n",
       "      <td>Yes</td>\n",
       "      <td>Acton</td>\n",
       "      <td>None</td>\n",
       "      <td>Yes</td>\n",
       "      <td>Yes</td>\n",
       "      <td>Yes</td>\n",
       "      <td>Fiber Optic</td>\n",
       "      <td>No</td>\n",
       "      <td>...</td>\n",
       "      <td>No</td>\n",
       "      <td>No</td>\n",
       "      <td>No</td>\n",
       "      <td>Yes</td>\n",
       "      <td>Month-to-Month</td>\n",
       "      <td>Yes</td>\n",
       "      <td>Bank Withdrawal</td>\n",
       "      <td>Stayed</td>\n",
       "      <td>Competitor</td>\n",
       "      <td>NaN</td>\n",
       "    </tr>\n",
       "    <tr>\n",
       "      <th>2</th>\n",
       "      <td>6143-JQKEA</td>\n",
       "      <td>Male</td>\n",
       "      <td>No</td>\n",
       "      <td>Adelanto</td>\n",
       "      <td>None</td>\n",
       "      <td>Yes</td>\n",
       "      <td>No</td>\n",
       "      <td>Yes</td>\n",
       "      <td>Cable</td>\n",
       "      <td>No</td>\n",
       "      <td>...</td>\n",
       "      <td>No</td>\n",
       "      <td>No</td>\n",
       "      <td>No</td>\n",
       "      <td>Yes</td>\n",
       "      <td>Month-to-Month</td>\n",
       "      <td>Yes</td>\n",
       "      <td>Credit Card</td>\n",
       "      <td>Stayed</td>\n",
       "      <td>Competitor</td>\n",
       "      <td>NaN</td>\n",
       "    </tr>\n",
       "    <tr>\n",
       "      <th>3</th>\n",
       "      <td>8993-IZEUX</td>\n",
       "      <td>Male</td>\n",
       "      <td>No</td>\n",
       "      <td>Adin</td>\n",
       "      <td>None</td>\n",
       "      <td>Yes</td>\n",
       "      <td>No</td>\n",
       "      <td>Yes</td>\n",
       "      <td>Fiber Optic</td>\n",
       "      <td>No</td>\n",
       "      <td>...</td>\n",
       "      <td>No</td>\n",
       "      <td>No</td>\n",
       "      <td>No</td>\n",
       "      <td>Yes</td>\n",
       "      <td>Month-to-Month</td>\n",
       "      <td>No</td>\n",
       "      <td>Bank Withdrawal</td>\n",
       "      <td>Stayed</td>\n",
       "      <td>Competitor</td>\n",
       "      <td>NaN</td>\n",
       "    </tr>\n",
       "    <tr>\n",
       "      <th>4</th>\n",
       "      <td>6990-YNRIO</td>\n",
       "      <td>Male</td>\n",
       "      <td>Yes</td>\n",
       "      <td>Agoura Hills</td>\n",
       "      <td>None</td>\n",
       "      <td>Yes</td>\n",
       "      <td>Yes</td>\n",
       "      <td>Yes</td>\n",
       "      <td>Fiber Optic</td>\n",
       "      <td>Yes</td>\n",
       "      <td>...</td>\n",
       "      <td>Yes</td>\n",
       "      <td>Yes</td>\n",
       "      <td>Yes</td>\n",
       "      <td>Yes</td>\n",
       "      <td>Two Year</td>\n",
       "      <td>No</td>\n",
       "      <td>Bank Withdrawal</td>\n",
       "      <td>Churned</td>\n",
       "      <td>Attitude</td>\n",
       "      <td>Attitude of support person</td>\n",
       "    </tr>\n",
       "    <tr>\n",
       "      <th>...</th>\n",
       "      <td>...</td>\n",
       "      <td>...</td>\n",
       "      <td>...</td>\n",
       "      <td>...</td>\n",
       "      <td>...</td>\n",
       "      <td>...</td>\n",
       "      <td>...</td>\n",
       "      <td>...</td>\n",
       "      <td>...</td>\n",
       "      <td>...</td>\n",
       "      <td>...</td>\n",
       "      <td>...</td>\n",
       "      <td>...</td>\n",
       "      <td>...</td>\n",
       "      <td>...</td>\n",
       "      <td>...</td>\n",
       "      <td>...</td>\n",
       "      <td>...</td>\n",
       "      <td>...</td>\n",
       "      <td>...</td>\n",
       "      <td>...</td>\n",
       "    </tr>\n",
       "    <tr>\n",
       "      <th>7038</th>\n",
       "      <td>7389-KBFIT</td>\n",
       "      <td>Female</td>\n",
       "      <td>Yes</td>\n",
       "      <td>Big Pine</td>\n",
       "      <td>Offer E</td>\n",
       "      <td>No</td>\n",
       "      <td>No</td>\n",
       "      <td>Yes</td>\n",
       "      <td>DSL</td>\n",
       "      <td>No</td>\n",
       "      <td>...</td>\n",
       "      <td>No</td>\n",
       "      <td>No</td>\n",
       "      <td>No</td>\n",
       "      <td>Yes</td>\n",
       "      <td>Month-to-Month</td>\n",
       "      <td>Yes</td>\n",
       "      <td>Mailed Check</td>\n",
       "      <td>Joined</td>\n",
       "      <td>Competitor</td>\n",
       "      <td>NaN</td>\n",
       "    </tr>\n",
       "    <tr>\n",
       "      <th>7039</th>\n",
       "      <td>9505-SQFSW</td>\n",
       "      <td>Female</td>\n",
       "      <td>Yes</td>\n",
       "      <td>Tehachapi</td>\n",
       "      <td>Offer E</td>\n",
       "      <td>No</td>\n",
       "      <td>No</td>\n",
       "      <td>Yes</td>\n",
       "      <td>Cable</td>\n",
       "      <td>No</td>\n",
       "      <td>...</td>\n",
       "      <td>No</td>\n",
       "      <td>Yes</td>\n",
       "      <td>Yes</td>\n",
       "      <td>Yes</td>\n",
       "      <td>Month-to-Month</td>\n",
       "      <td>No</td>\n",
       "      <td>Credit Card</td>\n",
       "      <td>Joined</td>\n",
       "      <td>Competitor</td>\n",
       "      <td>NaN</td>\n",
       "    </tr>\n",
       "    <tr>\n",
       "      <th>7040</th>\n",
       "      <td>7816-VGHTO</td>\n",
       "      <td>Female</td>\n",
       "      <td>Yes</td>\n",
       "      <td>Rio Oso</td>\n",
       "      <td>Offer E</td>\n",
       "      <td>No</td>\n",
       "      <td>No</td>\n",
       "      <td>Yes</td>\n",
       "      <td>Cable</td>\n",
       "      <td>No</td>\n",
       "      <td>...</td>\n",
       "      <td>No</td>\n",
       "      <td>No</td>\n",
       "      <td>No</td>\n",
       "      <td>No</td>\n",
       "      <td>Two Year</td>\n",
       "      <td>No</td>\n",
       "      <td>Credit Card</td>\n",
       "      <td>Stayed</td>\n",
       "      <td>Competitor</td>\n",
       "      <td>NaN</td>\n",
       "    </tr>\n",
       "    <tr>\n",
       "      <th>7041</th>\n",
       "      <td>0274-JKUJR</td>\n",
       "      <td>Male</td>\n",
       "      <td>Yes</td>\n",
       "      <td>Los Angeles</td>\n",
       "      <td>Offer E</td>\n",
       "      <td>No</td>\n",
       "      <td>No</td>\n",
       "      <td>Yes</td>\n",
       "      <td>Cable</td>\n",
       "      <td>Yes</td>\n",
       "      <td>...</td>\n",
       "      <td>Yes</td>\n",
       "      <td>Yes</td>\n",
       "      <td>Yes</td>\n",
       "      <td>Yes</td>\n",
       "      <td>Month-to-Month</td>\n",
       "      <td>No</td>\n",
       "      <td>Credit Card</td>\n",
       "      <td>Stayed</td>\n",
       "      <td>Competitor</td>\n",
       "      <td>NaN</td>\n",
       "    </tr>\n",
       "    <tr>\n",
       "      <th>7042</th>\n",
       "      <td>2826-DXLQO</td>\n",
       "      <td>Male</td>\n",
       "      <td>Yes</td>\n",
       "      <td>El Cerrito</td>\n",
       "      <td>Offer E</td>\n",
       "      <td>No</td>\n",
       "      <td>No</td>\n",
       "      <td>Yes</td>\n",
       "      <td>DSL</td>\n",
       "      <td>Yes</td>\n",
       "      <td>...</td>\n",
       "      <td>No</td>\n",
       "      <td>No</td>\n",
       "      <td>No</td>\n",
       "      <td>Yes</td>\n",
       "      <td>One Year</td>\n",
       "      <td>No</td>\n",
       "      <td>Bank Withdrawal</td>\n",
       "      <td>Stayed</td>\n",
       "      <td>Competitor</td>\n",
       "      <td>NaN</td>\n",
       "    </tr>\n",
       "  </tbody>\n",
       "</table>\n",
       "<p>7043 rows × 23 columns</p>\n",
       "</div>"
      ],
      "text/plain": [
       "     Customer ID  Gender Married          City    Offer PhoneService  \\\n",
       "0     1635-FJFCC  Female      No         Acton     None          Yes   \n",
       "1     3312-ZWLGF    Male     Yes         Acton     None          Yes   \n",
       "2     6143-JQKEA    Male      No      Adelanto     None          Yes   \n",
       "3     8993-IZEUX    Male      No          Adin     None          Yes   \n",
       "4     6990-YNRIO    Male     Yes  Agoura Hills     None          Yes   \n",
       "...          ...     ...     ...           ...      ...          ...   \n",
       "7038  7389-KBFIT  Female     Yes      Big Pine  Offer E           No   \n",
       "7039  9505-SQFSW  Female     Yes     Tehachapi  Offer E           No   \n",
       "7040  7816-VGHTO  Female     Yes       Rio Oso  Offer E           No   \n",
       "7041  0274-JKUJR    Male     Yes   Los Angeles  Offer E           No   \n",
       "7042  2826-DXLQO    Male     Yes    El Cerrito  Offer E           No   \n",
       "\n",
       "     Multiple_Lines Internet_Service Internet _Type Online_Security  ...  \\\n",
       "0                No              Yes            DSL              No  ...   \n",
       "1               Yes              Yes    Fiber Optic              No  ...   \n",
       "2                No              Yes          Cable              No  ...   \n",
       "3                No              Yes    Fiber Optic              No  ...   \n",
       "4               Yes              Yes    Fiber Optic             Yes  ...   \n",
       "...             ...              ...            ...             ...  ...   \n",
       "7038             No              Yes            DSL              No  ...   \n",
       "7039             No              Yes          Cable              No  ...   \n",
       "7040             No              Yes          Cable              No  ...   \n",
       "7041             No              Yes          Cable             Yes  ...   \n",
       "7042             No              Yes            DSL             Yes  ...   \n",
       "\n",
       "     Streaming TV Streaming Movies Streaming Music Unlimited Data  \\\n",
       "0              No               No              No            Yes   \n",
       "1              No               No              No            Yes   \n",
       "2              No               No              No            Yes   \n",
       "3              No               No              No            Yes   \n",
       "4             Yes              Yes             Yes            Yes   \n",
       "...           ...              ...             ...            ...   \n",
       "7038           No               No              No            Yes   \n",
       "7039           No              Yes             Yes            Yes   \n",
       "7040           No               No              No             No   \n",
       "7041          Yes              Yes             Yes            Yes   \n",
       "7042           No               No              No            Yes   \n",
       "\n",
       "            Contract Paperless Billing   Payment Method Customer_Status  \\\n",
       "0     Month-to-Month               Yes      Credit Card          Stayed   \n",
       "1     Month-to-Month               Yes  Bank Withdrawal          Stayed   \n",
       "2     Month-to-Month               Yes      Credit Card          Stayed   \n",
       "3     Month-to-Month                No  Bank Withdrawal          Stayed   \n",
       "4           Two Year                No  Bank Withdrawal         Churned   \n",
       "...              ...               ...              ...             ...   \n",
       "7038  Month-to-Month               Yes     Mailed Check          Joined   \n",
       "7039  Month-to-Month                No      Credit Card          Joined   \n",
       "7040        Two Year                No      Credit Card          Stayed   \n",
       "7041  Month-to-Month                No      Credit Card          Stayed   \n",
       "7042        One Year                No  Bank Withdrawal          Stayed   \n",
       "\n",
       "     Churn Category                Churn_Reason  \n",
       "0        Competitor                         NaN  \n",
       "1        Competitor                         NaN  \n",
       "2        Competitor                         NaN  \n",
       "3        Competitor                         NaN  \n",
       "4          Attitude  Attitude of support person  \n",
       "...             ...                         ...  \n",
       "7038     Competitor                         NaN  \n",
       "7039     Competitor                         NaN  \n",
       "7040     Competitor                         NaN  \n",
       "7041     Competitor                         NaN  \n",
       "7042     Competitor                         NaN  \n",
       "\n",
       "[7043 rows x 23 columns]"
      ]
     },
     "execution_count": 9,
     "metadata": {},
     "output_type": "execute_result"
    }
   ],
   "source": [
    "df_cat"
   ]
  },
  {
   "cell_type": "code",
   "execution_count": 10,
   "id": "e2384a28",
   "metadata": {},
   "outputs": [],
   "source": [
    "cat_columns = df.select_dtypes(include=[\"object\"]).columns.drop('Churn_Reason')"
   ]
  },
  {
   "cell_type": "code",
   "execution_count": 11,
   "id": "41053c41",
   "metadata": {},
   "outputs": [],
   "source": [
    "df_encoded=pd.get_dummies(df,columns=cat_columns)"
   ]
  },
  {
   "cell_type": "code",
   "execution_count": 12,
   "id": "4dbb3b5b",
   "metadata": {},
   "outputs": [],
   "source": [
    "from sklearn.preprocessing import LabelEncoder"
   ]
  },
  {
   "cell_type": "code",
   "execution_count": 13,
   "id": "0fee7b95",
   "metadata": {},
   "outputs": [],
   "source": [
    "label_encoder=LabelEncoder()"
   ]
  },
  {
   "cell_type": "code",
   "execution_count": 14,
   "id": "90cb7c99",
   "metadata": {},
   "outputs": [],
   "source": [
    "for col in cat_columns:\n",
    "    df[col]=label_encoder.fit_transform(df[col])"
   ]
  },
  {
   "cell_type": "code",
   "execution_count": 15,
   "id": "341562ed",
   "metadata": {},
   "outputs": [
    {
     "data": {
      "text/plain": [
       "Age                                 int64\n",
       "Number of Dependents                int64\n",
       "Zip Code                            int64\n",
       "Latitude                          float64\n",
       "Longitude                         float64\n",
       "                                   ...   \n",
       "Churn Category_Attitude             uint8\n",
       "Churn Category_Competitor           uint8\n",
       "Churn Category_Dissatisfaction      uint8\n",
       "Churn Category_Other                uint8\n",
       "Churn Category_Price                uint8\n",
       "Length: 8216, dtype: object"
      ]
     },
     "execution_count": 15,
     "metadata": {},
     "output_type": "execute_result"
    }
   ],
   "source": [
    "df_encoded.dtypes"
   ]
  },
  {
   "cell_type": "code",
   "execution_count": 16,
   "id": "367a0112",
   "metadata": {},
   "outputs": [
    {
     "data": {
      "text/html": [
       "<div>\n",
       "<style scoped>\n",
       "    .dataframe tbody tr th:only-of-type {\n",
       "        vertical-align: middle;\n",
       "    }\n",
       "\n",
       "    .dataframe tbody tr th {\n",
       "        vertical-align: top;\n",
       "    }\n",
       "\n",
       "    .dataframe thead th {\n",
       "        text-align: right;\n",
       "    }\n",
       "</style>\n",
       "<table border=\"1\" class=\"dataframe\">\n",
       "  <thead>\n",
       "    <tr style=\"text-align: right;\">\n",
       "      <th></th>\n",
       "      <th>Customer ID</th>\n",
       "      <th>Gender</th>\n",
       "      <th>Age</th>\n",
       "      <th>Married</th>\n",
       "      <th>Number of Dependents</th>\n",
       "      <th>City</th>\n",
       "      <th>Zip Code</th>\n",
       "      <th>Latitude</th>\n",
       "      <th>Longitude</th>\n",
       "      <th>Number of Referrals</th>\n",
       "      <th>...</th>\n",
       "      <th>Payment Method</th>\n",
       "      <th>Monthly Charge</th>\n",
       "      <th>Total Charges</th>\n",
       "      <th>Total Refunds</th>\n",
       "      <th>Total Extra Data Charges</th>\n",
       "      <th>Total Long Distance Charges</th>\n",
       "      <th>Total Revenue</th>\n",
       "      <th>Customer_Status</th>\n",
       "      <th>Churn Category</th>\n",
       "      <th>Churn_Reason</th>\n",
       "    </tr>\n",
       "  </thead>\n",
       "  <tbody>\n",
       "    <tr>\n",
       "      <th>0</th>\n",
       "      <td>1118</td>\n",
       "      <td>0</td>\n",
       "      <td>46</td>\n",
       "      <td>0</td>\n",
       "      <td>0</td>\n",
       "      <td>1</td>\n",
       "      <td>93510</td>\n",
       "      <td>34.501452</td>\n",
       "      <td>-118.207862</td>\n",
       "      <td>0</td>\n",
       "      <td>...</td>\n",
       "      <td>1</td>\n",
       "      <td>44.05</td>\n",
       "      <td>202.15</td>\n",
       "      <td>0.0</td>\n",
       "      <td>0</td>\n",
       "      <td>54.95</td>\n",
       "      <td>257.10</td>\n",
       "      <td>2</td>\n",
       "      <td>1</td>\n",
       "      <td>NaN</td>\n",
       "    </tr>\n",
       "    <tr>\n",
       "      <th>1</th>\n",
       "      <td>2312</td>\n",
       "      <td>1</td>\n",
       "      <td>69</td>\n",
       "      <td>1</td>\n",
       "      <td>0</td>\n",
       "      <td>1</td>\n",
       "      <td>93510</td>\n",
       "      <td>34.501452</td>\n",
       "      <td>-118.207862</td>\n",
       "      <td>0</td>\n",
       "      <td>...</td>\n",
       "      <td>0</td>\n",
       "      <td>79.30</td>\n",
       "      <td>2414.55</td>\n",
       "      <td>0.0</td>\n",
       "      <td>0</td>\n",
       "      <td>305.95</td>\n",
       "      <td>2720.50</td>\n",
       "      <td>2</td>\n",
       "      <td>1</td>\n",
       "      <td>NaN</td>\n",
       "    </tr>\n",
       "    <tr>\n",
       "      <th>2</th>\n",
       "      <td>4359</td>\n",
       "      <td>1</td>\n",
       "      <td>34</td>\n",
       "      <td>0</td>\n",
       "      <td>0</td>\n",
       "      <td>2</td>\n",
       "      <td>92301</td>\n",
       "      <td>34.667815</td>\n",
       "      <td>-117.536183</td>\n",
       "      <td>0</td>\n",
       "      <td>...</td>\n",
       "      <td>1</td>\n",
       "      <td>45.80</td>\n",
       "      <td>436.20</td>\n",
       "      <td>0.0</td>\n",
       "      <td>0</td>\n",
       "      <td>154.50</td>\n",
       "      <td>590.70</td>\n",
       "      <td>2</td>\n",
       "      <td>1</td>\n",
       "      <td>NaN</td>\n",
       "    </tr>\n",
       "    <tr>\n",
       "      <th>3</th>\n",
       "      <td>6354</td>\n",
       "      <td>1</td>\n",
       "      <td>54</td>\n",
       "      <td>0</td>\n",
       "      <td>0</td>\n",
       "      <td>3</td>\n",
       "      <td>96006</td>\n",
       "      <td>41.171578</td>\n",
       "      <td>-120.913161</td>\n",
       "      <td>0</td>\n",
       "      <td>...</td>\n",
       "      <td>0</td>\n",
       "      <td>69.15</td>\n",
       "      <td>488.65</td>\n",
       "      <td>0.0</td>\n",
       "      <td>0</td>\n",
       "      <td>147.84</td>\n",
       "      <td>636.49</td>\n",
       "      <td>2</td>\n",
       "      <td>1</td>\n",
       "      <td>NaN</td>\n",
       "    </tr>\n",
       "    <tr>\n",
       "      <th>4</th>\n",
       "      <td>4967</td>\n",
       "      <td>1</td>\n",
       "      <td>53</td>\n",
       "      <td>1</td>\n",
       "      <td>0</td>\n",
       "      <td>4</td>\n",
       "      <td>91301</td>\n",
       "      <td>34.129058</td>\n",
       "      <td>-118.759788</td>\n",
       "      <td>0</td>\n",
       "      <td>...</td>\n",
       "      <td>0</td>\n",
       "      <td>108.65</td>\n",
       "      <td>6937.95</td>\n",
       "      <td>0.0</td>\n",
       "      <td>0</td>\n",
       "      <td>2722.20</td>\n",
       "      <td>9660.15</td>\n",
       "      <td>0</td>\n",
       "      <td>0</td>\n",
       "      <td>Attitude of support person</td>\n",
       "    </tr>\n",
       "  </tbody>\n",
       "</table>\n",
       "<p>5 rows × 38 columns</p>\n",
       "</div>"
      ],
      "text/plain": [
       "   Customer ID  Gender  Age  Married  Number of Dependents  City  Zip Code  \\\n",
       "0         1118       0   46        0                     0     1     93510   \n",
       "1         2312       1   69        1                     0     1     93510   \n",
       "2         4359       1   34        0                     0     2     92301   \n",
       "3         6354       1   54        0                     0     3     96006   \n",
       "4         4967       1   53        1                     0     4     91301   \n",
       "\n",
       "    Latitude   Longitude  Number of Referrals  ...  Payment Method  \\\n",
       "0  34.501452 -118.207862                    0  ...               1   \n",
       "1  34.501452 -118.207862                    0  ...               0   \n",
       "2  34.667815 -117.536183                    0  ...               1   \n",
       "3  41.171578 -120.913161                    0  ...               0   \n",
       "4  34.129058 -118.759788                    0  ...               0   \n",
       "\n",
       "   Monthly Charge  Total Charges  Total Refunds  Total Extra Data Charges  \\\n",
       "0           44.05         202.15            0.0                         0   \n",
       "1           79.30        2414.55            0.0                         0   \n",
       "2           45.80         436.20            0.0                         0   \n",
       "3           69.15         488.65            0.0                         0   \n",
       "4          108.65        6937.95            0.0                         0   \n",
       "\n",
       "   Total Long Distance Charges  Total Revenue  Customer_Status  \\\n",
       "0                        54.95         257.10                2   \n",
       "1                       305.95        2720.50                2   \n",
       "2                       154.50         590.70                2   \n",
       "3                       147.84         636.49                2   \n",
       "4                      2722.20        9660.15                0   \n",
       "\n",
       "   Churn Category                Churn_Reason  \n",
       "0               1                         NaN  \n",
       "1               1                         NaN  \n",
       "2               1                         NaN  \n",
       "3               1                         NaN  \n",
       "4               0  Attitude of support person  \n",
       "\n",
       "[5 rows x 38 columns]"
      ]
     },
     "execution_count": 16,
     "metadata": {},
     "output_type": "execute_result"
    }
   ],
   "source": [
    "df.head()"
   ]
  },
  {
   "cell_type": "markdown",
   "id": "56ade6ea",
   "metadata": {},
   "source": [
    "# Analysis"
   ]
  },
  {
   "cell_type": "code",
   "execution_count": 17,
   "id": "322e8b67",
   "metadata": {},
   "outputs": [
    {
     "name": "stdout",
     "output_type": "stream",
     "text": [
      "7043\n",
      "7043\n"
     ]
    }
   ],
   "source": [
    "Married=df[\"Married\"].tolist()\n",
    "m=len(Married)\n",
    "print(m)\n",
    "Customer_Status=df[\"Customer_Status\"].tolist()\n",
    "n=len(Customer_Status)\n",
    "print(n)"
   ]
  },
  {
   "cell_type": "code",
   "execution_count": 18,
   "id": "72e1078b",
   "metadata": {},
   "outputs": [
    {
     "name": "stdout",
     "output_type": "stream",
     "text": [
      "3402\n",
      "1869\n"
     ]
    }
   ],
   "source": [
    "count_m=0\n",
    "count_c=0\n",
    "for i in range(len(Married)):\n",
    "    if(Married[i]==1):\n",
    "        count_m= count_m+1\n",
    "    if(Customer_Status[i]==0):\n",
    "        count_c= count_c+1\n",
    "print(count_m)\n",
    "print(count_c)        "
   ]
  },
  {
   "cell_type": "code",
   "execution_count": 19,
   "id": "f0eb07a0",
   "metadata": {},
   "outputs": [
    {
     "name": "stdout",
     "output_type": "stream",
     "text": [
      "No.of married customer that churned: 669\n"
     ]
    }
   ],
   "source": [
    "count_curned_married=0\n",
    "for i in range(len(Married)):\n",
    "    if (Married[i]==1 and Customer_Status[i]==0):\n",
    "            count_curned_married=count_curned_married+1\n",
    "        \n",
    "print(\"No.of married customer that churned:\", count_curned_married)       "
   ]
  },
  {
   "cell_type": "code",
   "execution_count": 20,
   "id": "9ca7af6e",
   "metadata": {},
   "outputs": [
    {
     "name": "stdout",
     "output_type": "stream",
     "text": [
      "No.of unmarried customer that churned: 1200\n"
     ]
    }
   ],
   "source": [
    "count_curned_unmarried=0\n",
    "for i in range(len(Married)):\n",
    "    if (Married[i]==0 and Customer_Status[i]==0):\n",
    "            count_curned_unmarried=count_curned_unmarried+1\n",
    "        \n",
    "print(\"No.of unmarried customer that churned:\",count_curned_unmarried)       "
   ]
  },
  {
   "cell_type": "code",
   "execution_count": 21,
   "id": "54d31bb6",
   "metadata": {},
   "outputs": [
    {
     "name": "stdout",
     "output_type": "stream",
     "text": [
      "No.of unmarried customer that stayed: 2071\n"
     ]
    }
   ],
   "source": [
    "count_stayed_unmarried=0\n",
    "for i in range(len(Married)):\n",
    "    if (Married[i]==0 and Customer_Status[i]==2):\n",
    "            count_stayed_unmarried=count_stayed_unmarried+1\n",
    "        \n",
    "print(\"No.of unmarried customer that stayed:\",count_stayed_unmarried)       "
   ]
  },
  {
   "cell_type": "code",
   "execution_count": 22,
   "id": "0d028ac7",
   "metadata": {},
   "outputs": [
    {
     "name": "stdout",
     "output_type": "stream",
     "text": [
      "No.of married customer that stayed: 2649\n"
     ]
    }
   ],
   "source": [
    "count_stayed_married=0\n",
    "for i in range(len(Married)):\n",
    "    if (Married[i]==1 and Customer_Status[i]==2):\n",
    "            count_stayed_married=count_stayed_married+1\n",
    "        \n",
    "print(\"No.of married customer that stayed:\",count_stayed_married)       "
   ]
  },
  {
   "cell_type": "code",
   "execution_count": 23,
   "id": "2084c78f",
   "metadata": {},
   "outputs": [
    {
     "name": "stdout",
     "output_type": "stream",
     "text": [
      "No.of married customer that joined: 84\n"
     ]
    }
   ],
   "source": [
    "count_joined_married=0\n",
    "for i in range(len(Married)):\n",
    "    if (Married[i]==1 and Customer_Status[i]==1):\n",
    "            count_joined_married=count_joined_married+1\n",
    "        \n",
    "print(\"No.of married customer that joined:\",count_joined_married)       "
   ]
  },
  {
   "cell_type": "code",
   "execution_count": 24,
   "id": "92ecf200",
   "metadata": {},
   "outputs": [
    {
     "name": "stdout",
     "output_type": "stream",
     "text": [
      "No.of unmarried customer that joined: 370\n"
     ]
    }
   ],
   "source": [
    "count_joined_unmarried=0\n",
    "for i in range(len(Married)):\n",
    "    if (Married[i]==0 and Customer_Status[i]==1):\n",
    "            count_joined_unmarried=count_joined_unmarried+1\n",
    "        \n",
    "print(\"No.of unmarried customer that joined:\",count_joined_unmarried)       "
   ]
  },
  {
   "cell_type": "code",
   "execution_count": 25,
   "id": "0b683242",
   "metadata": {},
   "outputs": [
    {
     "name": "stdout",
     "output_type": "stream",
     "text": [
      "7043\n"
     ]
    }
   ],
   "source": [
    "Multiple_Lines=df[\"Multiple_Lines\"].tolist()\n",
    "m=len(Multiple_Lines)\n",
    "print(m)"
   ]
  },
  {
   "cell_type": "code",
   "execution_count": 26,
   "id": "05ba6e23",
   "metadata": {},
   "outputs": [
    {
     "name": "stdout",
     "output_type": "stream",
     "text": [
      "No.of customers using Multiple_Lines that churned: 850\n"
     ]
    }
   ],
   "source": [
    "count_curned=0\n",
    "for i in range(len(Multiple_Lines)):\n",
    "    if (Multiple_Lines[i]==1 and Customer_Status[i]==0):\n",
    "            count_curned=count_curned+1\n",
    "        \n",
    "print(\"No.of customers using Multiple_Lines that churned:\", count_curned)       "
   ]
  },
  {
   "cell_type": "code",
   "execution_count": 27,
   "id": "738408f9",
   "metadata": {},
   "outputs": [
    {
     "name": "stdout",
     "output_type": "stream",
     "text": [
      "No.of customers not using Multiple_Lines that churned: 1019\n"
     ]
    }
   ],
   "source": [
    "count_curned1=0\n",
    "for i in range(len(Multiple_Lines)):\n",
    "    if (Multiple_Lines[i]==0 and Customer_Status[i]==0):\n",
    "            count_curned1=count_curned1+1\n",
    "        \n",
    "print(\"No.of customers not using Multiple_Lines that churned:\", count_curned1)       "
   ]
  },
  {
   "cell_type": "code",
   "execution_count": 28,
   "id": "c99b5482",
   "metadata": {},
   "outputs": [
    {
     "name": "stdout",
     "output_type": "stream",
     "text": [
      "No.of customers not using Multiple_Lines that stayed: 2644\n"
     ]
    }
   ],
   "source": [
    "count_stayed1=0\n",
    "for i in range(len(Multiple_Lines)):\n",
    "    if (Multiple_Lines[i]==0 and Customer_Status[i]==2):\n",
    "            count_stayed1=count_stayed1+1\n",
    "        \n",
    "print(\"No.of customers not using Multiple_Lines that stayed:\", count_stayed1)       "
   ]
  },
  {
   "cell_type": "code",
   "execution_count": 29,
   "id": "8d1fcf2b",
   "metadata": {},
   "outputs": [
    {
     "name": "stdout",
     "output_type": "stream",
     "text": [
      "No.of customers using Multiple_Lines that stayed: 2076\n"
     ]
    }
   ],
   "source": [
    "count_stayed=0\n",
    "for i in range(len(Multiple_Lines)):\n",
    "    if (Multiple_Lines[i]==1 and Customer_Status[i]==2):\n",
    "            count_stayed=count_stayed+1\n",
    "        \n",
    "print(\"No.of customers using Multiple_Lines that stayed:\", count_stayed)       "
   ]
  },
  {
   "cell_type": "code",
   "execution_count": 30,
   "id": "513f06da",
   "metadata": {},
   "outputs": [
    {
     "name": "stdout",
     "output_type": "stream",
     "text": [
      "No.of customers using Multiple_Lines that joined: 45\n"
     ]
    }
   ],
   "source": [
    "count_joined=0\n",
    "for i in range(len(Multiple_Lines)):\n",
    "    if (Multiple_Lines[i]==1 and Customer_Status[i]==1):\n",
    "            count_joined=count_joined+1\n",
    "        \n",
    "print(\"No.of customers using Multiple_Lines that joined:\", count_joined)       "
   ]
  },
  {
   "cell_type": "code",
   "execution_count": 31,
   "id": "c1499a38",
   "metadata": {},
   "outputs": [
    {
     "name": "stdout",
     "output_type": "stream",
     "text": [
      "No.of customers not using Multiple_Lines that joined: 409\n"
     ]
    }
   ],
   "source": [
    "count_joined1=0\n",
    "for i in range(len(Multiple_Lines)):\n",
    "    if (Multiple_Lines[i]==0 and Customer_Status[i]==1):\n",
    "            count_joined1=count_joined1+1\n",
    "        \n",
    "print(\"No.of customers not using Multiple_Lines that joined:\", count_joined1)       "
   ]
  },
  {
   "cell_type": "code",
   "execution_count": 32,
   "id": "22fe7dd3",
   "metadata": {},
   "outputs": [],
   "source": [
    "age=df[\"Age\"].tolist()"
   ]
  },
  {
   "cell_type": "code",
   "execution_count": 33,
   "id": "2cfe2b5e",
   "metadata": {},
   "outputs": [],
   "source": [
    "status=df[\"Customer_Status\"].tolist()"
   ]
  },
  {
   "cell_type": "code",
   "execution_count": 34,
   "id": "fbf5b38c",
   "metadata": {},
   "outputs": [
    {
     "name": "stdout",
     "output_type": "stream",
     "text": [
      "48\n",
      "294\n",
      "303\n",
      "679\n"
     ]
    }
   ],
   "source": [
    "ag1=0\n",
    "ag2=0\n",
    "ag3=0\n",
    "ag4=0\n",
    "\n",
    "for i in range(len(age)):\n",
    "    if age[i]<=20 and status[i]==0:\n",
    "        ag1=ag1+1\n",
    "    if age[i]>=21 and age[i]<=30 and status[i]==0:\n",
    "        ag2=ag2+1\n",
    "    if age[i]>=31 and age[i]<=40 and status[i]==0:\n",
    "        ag3=ag3+1\n",
    "    if age[i]<=41and status[i]==0:\n",
    "        ag4=ag4+1\n",
    "print(ag1)\n",
    "print(ag2)\n",
    "print(ag3)\n",
    "print(ag4)"
   ]
  },
  {
   "cell_type": "code",
   "execution_count": 35,
   "id": "4c402f89",
   "metadata": {},
   "outputs": [
    {
     "name": "stdout",
     "output_type": "stream",
     "text": [
      "No.of married customer of age less than 20, that churned: 14\n"
     ]
    }
   ],
   "source": [
    "count_curned1=0\n",
    "for i in range(len(Married)):\n",
    "    if (Married[i]==1 and Customer_Status[i]==0 and age[i]<=20):\n",
    "            count_curned1=count_curned1+1\n",
    "        \n",
    "print(\"No.of married customer of age less than 20, that churned:\", count_curned1)       "
   ]
  },
  {
   "cell_type": "code",
   "execution_count": 36,
   "id": "73270789",
   "metadata": {},
   "outputs": [
    {
     "name": "stdout",
     "output_type": "stream",
     "text": [
      "No.of married customer of age between 21 to 30 that churned: 99\n"
     ]
    }
   ],
   "source": [
    "count_curned2=0\n",
    "for i in range(len(Married)):\n",
    "    if (Married[i]==1 and Customer_Status[i]==0 and age[i]>=21 and age[i]<=30):\n",
    "            count_curned2=count_curned2+1\n",
    "        \n",
    "print(\"No.of married customer of age between 21 to 30 that churned:\", count_curned2) "
   ]
  },
  {
   "cell_type": "code",
   "execution_count": 37,
   "id": "fcd53a70",
   "metadata": {},
   "outputs": [
    {
     "name": "stdout",
     "output_type": "stream",
     "text": [
      "No.of married customer of age between 31 to 40 that churned: 106\n"
     ]
    }
   ],
   "source": [
    "count_curned3=0\n",
    "for i in range(len(Married)):\n",
    "    if (Married[i]==1 and Customer_Status[i]==0 and age[i]>=31 and age[i]<=40):\n",
    "            count_curned3=count_curned3+1\n",
    "        \n",
    "print(\"No.of married customer of age between 31 to 40 that churned:\", count_curned3) "
   ]
  },
  {
   "cell_type": "code",
   "execution_count": 38,
   "id": "cc1b9453",
   "metadata": {},
   "outputs": [
    {
     "name": "stdout",
     "output_type": "stream",
     "text": [
      "No.of married customer of age above 41, that churned: 438\n"
     ]
    }
   ],
   "source": [
    "count_curned4=0\n",
    "for i in range(len(Married)):\n",
    "    if (Married[i]==1 and Customer_Status[i]==0 and age[i]>41 ):\n",
    "            count_curned4=count_curned4+1\n",
    "        \n",
    "print(\"No.of married customer of age above 41, that churned:\", count_curned4) "
   ]
  },
  {
   "cell_type": "code",
   "execution_count": 39,
   "id": "a24f7122",
   "metadata": {},
   "outputs": [
    {
     "name": "stdout",
     "output_type": "stream",
     "text": [
      "No.of unmarried customer of age less than 20, that churned: 11\n"
     ]
    }
   ],
   "source": [
    "count_curned5=0\n",
    "for i in range(len(Married)):\n",
    "    if (Married[i]==0 and Customer_Status[i]==0 and age[i]<20):\n",
    "            count_curned5=count_curned5+1\n",
    "        \n",
    "print(\"No.of unmarried customer of age less than 20, that churned:\", count_curned5) "
   ]
  },
  {
   "cell_type": "code",
   "execution_count": 40,
   "id": "dff8f0ee",
   "metadata": {},
   "outputs": [
    {
     "name": "stdout",
     "output_type": "stream",
     "text": [
      "No.of unmarried customer of age between 21 to 30, that churned: 195\n"
     ]
    }
   ],
   "source": [
    "count_curned6=0\n",
    "for i in range(len(Married)):\n",
    "    if (Married[i]==0 and Customer_Status[i]==0 and age[i]>=21 and age[i]<=30):\n",
    "            count_curned6=count_curned6+1\n",
    "        \n",
    "print(\"No.of unmarried customer of age between 21 to 30, that churned:\", count_curned6)"
   ]
  },
  {
   "cell_type": "code",
   "execution_count": 41,
   "id": "0fc09ce6",
   "metadata": {},
   "outputs": [
    {
     "name": "stdout",
     "output_type": "stream",
     "text": [
      "No.of unmarried customer of age between 31 to 40, that churned: 197\n"
     ]
    }
   ],
   "source": [
    "count_curned7=0\n",
    "for i in range(len(Married)):\n",
    "    if (Married[i]==0 and Customer_Status[i]==0 and age[i]>=31 and age[i]<=40):\n",
    "            count_curned7=count_curned7+1\n",
    "        \n",
    "print(\"No.of unmarried customer of age between 31 to 40, that churned:\", count_curned7) "
   ]
  },
  {
   "cell_type": "code",
   "execution_count": 42,
   "id": "16a6236d",
   "metadata": {},
   "outputs": [
    {
     "name": "stdout",
     "output_type": "stream",
     "text": [
      "No.of unmarried customer of age above 41, that churned: 752\n"
     ]
    }
   ],
   "source": [
    "count_curned8=0\n",
    "for i in range(len(Married)):\n",
    "    if (Married[i]==0 and Customer_Status[i]==0 and age[i]>41):\n",
    "            count_curned8=count_curned8+1\n",
    "        \n",
    "print(\"No.of unmarried customer of age above 41, that churned:\", count_curned8) "
   ]
  },
  {
   "cell_type": "markdown",
   "id": "4e3f46da",
   "metadata": {},
   "source": [
    "# Visualization"
   ]
  },
  {
   "cell_type": "code",
   "execution_count": 43,
   "id": "30d1304d",
   "metadata": {},
   "outputs": [],
   "source": [
    "import matplotlib.pyplot as plt \n",
    "import seaborn as sns"
   ]
  },
  {
   "cell_type": "code",
   "execution_count": 44,
   "id": "91e48b02",
   "metadata": {},
   "outputs": [
    {
     "name": "stdout",
     "output_type": "stream",
     "text": [
      "1869\n",
      "4720\n",
      "454\n"
     ]
    }
   ],
   "source": [
    "chruned=0\n",
    "stayed=0\n",
    "joined=0\n",
    "for i in range(len(Customer_Status)):\n",
    "    if Customer_Status[i]==0:\n",
    "        chruned=chruned+1\n",
    "    if Customer_Status[i]==2:\n",
    "        stayed=stayed+1   \n",
    "    if Customer_Status[i]==1:\n",
    "        joined=joined+1\n",
    "print(chruned)\n",
    "print(stayed)\n",
    "print(joined)"
   ]
  },
  {
   "cell_type": "code",
   "execution_count": 45,
   "id": "b9202da6",
   "metadata": {},
   "outputs": [
    {
     "data": {
      "image/png": "[encoded data removed]",
      "text/plain": [
       "<Figure size 640x480 with 1 Axes>"
      ]
     },
     "metadata": {},
     "output_type": "display_data"
    }
   ],
   "source": [
    "labels=[\"Chruned\",\"Stayed\",\"Joined\"]\n",
    "counts=[1869,4720,454]\n",
    "explode=(0,0,0)\n",
    "color=['pink','lightblue','yellow']\n",
    "fig1,ax1=plt.subplots()\n",
    "ax1.pie(counts,explode=explode,labels=labels,colors=color,autopct='%1.2f%%')\n",
    "ax1.axis('equal')\n",
    "plt.tight_layout()\n",
    "plt.show()"
   ]
  },
  {
   "cell_type": "code",
   "execution_count": 46,
   "id": "52f6f1fd",
   "metadata": {},
   "outputs": [
    {
     "data": {
      "image/png": "[encoded data removed]",
      "text/plain": [
       "<Figure size 2000x2000 with 42 Axes>"
      ]
     },
     "metadata": {},
     "output_type": "display_data"
    }
   ],
   "source": [
    "df.hist(figsize=(20,20))\n",
    "plt.show()"
   ]
  },
  {
   "cell_type": "code",
   "execution_count": 47,
   "id": "ee5dcbb6",
   "metadata": {},
   "outputs": [
    {
     "data": {
      "image/png": "[encoded data removed]",
      "text/plain": [
       "<Figure size 640x480 with 1 Axes>"
      ]
     },
     "metadata": {},
     "output_type": "display_data"
    }
   ],
   "source": [
    "X=[\"CM\",  \"CUM\", \"SM\",\"SUM\",\"JM\",\"JUM\"]\n",
    "Y=[count_curned_married,  count_curned_unmarried,  count_stayed_married,  count_stayed_unmarried,  count_joined_married,  count_joined_unmarried]\n",
    "plt.bar(X,Y,width=0.8)\n",
    "plt.title(\"CUSTOMER STATUS\")\n",
    "plt.show()"
   ]
  },
  {
   "cell_type": "code",
   "execution_count": 48,
   "id": "5e699cda",
   "metadata": {},
   "outputs": [
    {
     "data": {
      "image/png": "[encoded data removed]",
      "text/plain": [
       "<Figure size 640x480 with 1 Axes>"
      ]
     },
     "metadata": {},
     "output_type": "display_data"
    }
   ],
   "source": [
    "labels=[\"Chruned_Married\",\"Chruned_Unmarried\",\"Stayed_married\",\"Stayed_Unmarried\",\"Joined_Married\",\"Joined_Unmarried\"]\n",
    "counts=[count_curned_married,count_curned_unmarried,count_stayed_married, count_stayed_unmarried,count_joined_married,count_joined_unmarried]\n",
    "explode=(0,0,0,0,0,0)\n",
    "color=['pink','lightblue','yellow','orange','lavender','cyan']\n",
    "fig1,ax1=plt.subplots()\n",
    "ax1.pie(counts,explode=explode,labels=labels,colors=color,autopct='%1.2f%%')\n",
    "ax1.axis('equal')\n",
    "plt.tight_layout()\n",
    "plt.title(\"CUSTOMER STATUS\")\n",
    "plt.show()"
   ]
  },
  {
   "cell_type": "code",
   "execution_count": 49,
   "id": "4831f1ef",
   "metadata": {},
   "outputs": [
    {
     "data": {
      "image/png": "[encoded data removed]",
      "text/plain": [
       "<Figure size 640x480 with 1 Axes>"
      ]
     },
     "metadata": {},
     "output_type": "display_data"
    }
   ],
   "source": [
    "X=[\"Churned_in_ag1\",\"Churned_in_ag2\",\"Churned_in_ag3\",\"Churned_in_ag4\"]\n",
    "Y=[ag1,ag2,ag3,ag4]\n",
    "plt.bar(X,Y,width=0.8)\n",
    "plt.title(\"CUSTOMER STATUS WRT AGE\")\n",
    "plt.show()"
   ]
  },
  {
   "cell_type": "code",
   "execution_count": 50,
   "id": "c7274145",
   "metadata": {},
   "outputs": [
    {
     "data": {
      "image/png": "[encoded data removed]",
      "text/plain": [
       "<Figure size 640x480 with 1 Axes>"
      ]
     },
     "metadata": {},
     "output_type": "display_data"
    },
    {
     "data": {
      "text/plain": [
       "<Figure size 1000x1000 with 0 Axes>"
      ]
     },
     "metadata": {},
     "output_type": "display_data"
    }
   ],
   "source": [
    "X=[\"CMAg1\",  \"CMAg2\", \"CMAg3\",\"CMAg4\",\"CUMAg1\",\"CUMAg2\",\"CUMAg3\",\"CUMAg4\"]\n",
    "Y=[count_curned1,count_curned2,count_curned3,count_curned4,count_curned5,count_curned6,count_curned7,count_curned8]\n",
    "plt.bar(X,Y,width=0.8,color='lightpink')\n",
    "plt.figure(figsize=(10,10))\n",
    "\n",
    "plt.show()"
   ]
  },
  {
   "cell_type": "code",
   "execution_count": 51,
   "id": "796f514e",
   "metadata": {},
   "outputs": [
    {
     "data": {
      "image/png": "[encoded data removed]",
      "text/plain": [
       "<Figure size 640x480 with 1 Axes>"
      ]
     },
     "metadata": {},
     "output_type": "display_data"
    }
   ],
   "source": [
    "X=[\"CU_multi\",  \"CNU_multi\", \"SU_multi\",\"SNU_multi\",\"JU_multi\",\"JNU_multi\"]\n",
    "Y=[count_curned,  count_curned1,count_stayed,count_stayed1,  count_joined,  count_joined1]\n",
    "plt.bar(X,Y,width=0.8)\n",
    "plt.title(\"CUSTOMER STATUS WRT MULTILINES\")\n",
    "plt.show()"
   ]
  },
  {
   "cell_type": "markdown",
   "id": "9c86cd26",
   "metadata": {},
   "source": [
    "# NLP"
   ]
  },
  {
   "cell_type": "code",
   "execution_count": 52,
   "id": "d2cbab70",
   "metadata": {},
   "outputs": [
    {
     "data": {
      "text/html": [
       "<div>\n",
       "<style scoped>\n",
       "    .dataframe tbody tr th:only-of-type {\n",
       "        vertical-align: middle;\n",
       "    }\n",
       "\n",
       "    .dataframe tbody tr th {\n",
       "        vertical-align: top;\n",
       "    }\n",
       "\n",
       "    .dataframe thead th {\n",
       "        text-align: right;\n",
       "    }\n",
       "</style>\n",
       "<table border=\"1\" class=\"dataframe\">\n",
       "  <thead>\n",
       "    <tr style=\"text-align: right;\">\n",
       "      <th></th>\n",
       "      <th>Customer ID</th>\n",
       "      <th>Gender</th>\n",
       "      <th>Age</th>\n",
       "      <th>Married</th>\n",
       "      <th>Number of Dependents</th>\n",
       "      <th>City</th>\n",
       "      <th>Zip Code</th>\n",
       "      <th>Latitude</th>\n",
       "      <th>Longitude</th>\n",
       "      <th>Number of Referrals</th>\n",
       "      <th>...</th>\n",
       "      <th>Payment Method</th>\n",
       "      <th>Monthly Charge</th>\n",
       "      <th>Total Charges</th>\n",
       "      <th>Total Refunds</th>\n",
       "      <th>Total Extra Data Charges</th>\n",
       "      <th>Total Long Distance Charges</th>\n",
       "      <th>Total Revenue</th>\n",
       "      <th>Customer_Status</th>\n",
       "      <th>Churn Category</th>\n",
       "      <th>Churn_Reason</th>\n",
       "    </tr>\n",
       "  </thead>\n",
       "  <tbody>\n",
       "    <tr>\n",
       "      <th>0</th>\n",
       "      <td>1118</td>\n",
       "      <td>0</td>\n",
       "      <td>46</td>\n",
       "      <td>0</td>\n",
       "      <td>0</td>\n",
       "      <td>1</td>\n",
       "      <td>93510</td>\n",
       "      <td>34.501452</td>\n",
       "      <td>-118.207862</td>\n",
       "      <td>0</td>\n",
       "      <td>...</td>\n",
       "      <td>1</td>\n",
       "      <td>44.05</td>\n",
       "      <td>202.15</td>\n",
       "      <td>0.0</td>\n",
       "      <td>0</td>\n",
       "      <td>54.95</td>\n",
       "      <td>257.10</td>\n",
       "      <td>2</td>\n",
       "      <td>1</td>\n",
       "      <td>NaN</td>\n",
       "    </tr>\n",
       "    <tr>\n",
       "      <th>1</th>\n",
       "      <td>2312</td>\n",
       "      <td>1</td>\n",
       "      <td>69</td>\n",
       "      <td>1</td>\n",
       "      <td>0</td>\n",
       "      <td>1</td>\n",
       "      <td>93510</td>\n",
       "      <td>34.501452</td>\n",
       "      <td>-118.207862</td>\n",
       "      <td>0</td>\n",
       "      <td>...</td>\n",
       "      <td>0</td>\n",
       "      <td>79.30</td>\n",
       "      <td>2414.55</td>\n",
       "      <td>0.0</td>\n",
       "      <td>0</td>\n",
       "      <td>305.95</td>\n",
       "      <td>2720.50</td>\n",
       "      <td>2</td>\n",
       "      <td>1</td>\n",
       "      <td>NaN</td>\n",
       "    </tr>\n",
       "    <tr>\n",
       "      <th>2</th>\n",
       "      <td>4359</td>\n",
       "      <td>1</td>\n",
       "      <td>34</td>\n",
       "      <td>0</td>\n",
       "      <td>0</td>\n",
       "      <td>2</td>\n",
       "      <td>92301</td>\n",
       "      <td>34.667815</td>\n",
       "      <td>-117.536183</td>\n",
       "      <td>0</td>\n",
       "      <td>...</td>\n",
       "      <td>1</td>\n",
       "      <td>45.80</td>\n",
       "      <td>436.20</td>\n",
       "      <td>0.0</td>\n",
       "      <td>0</td>\n",
       "      <td>154.50</td>\n",
       "      <td>590.70</td>\n",
       "      <td>2</td>\n",
       "      <td>1</td>\n",
       "      <td>NaN</td>\n",
       "    </tr>\n",
       "    <tr>\n",
       "      <th>3</th>\n",
       "      <td>6354</td>\n",
       "      <td>1</td>\n",
       "      <td>54</td>\n",
       "      <td>0</td>\n",
       "      <td>0</td>\n",
       "      <td>3</td>\n",
       "      <td>96006</td>\n",
       "      <td>41.171578</td>\n",
       "      <td>-120.913161</td>\n",
       "      <td>0</td>\n",
       "      <td>...</td>\n",
       "      <td>0</td>\n",
       "      <td>69.15</td>\n",
       "      <td>488.65</td>\n",
       "      <td>0.0</td>\n",
       "      <td>0</td>\n",
       "      <td>147.84</td>\n",
       "      <td>636.49</td>\n",
       "      <td>2</td>\n",
       "      <td>1</td>\n",
       "      <td>NaN</td>\n",
       "    </tr>\n",
       "    <tr>\n",
       "      <th>4</th>\n",
       "      <td>4967</td>\n",
       "      <td>1</td>\n",
       "      <td>53</td>\n",
       "      <td>1</td>\n",
       "      <td>0</td>\n",
       "      <td>4</td>\n",
       "      <td>91301</td>\n",
       "      <td>34.129058</td>\n",
       "      <td>-118.759788</td>\n",
       "      <td>0</td>\n",
       "      <td>...</td>\n",
       "      <td>0</td>\n",
       "      <td>108.65</td>\n",
       "      <td>6937.95</td>\n",
       "      <td>0.0</td>\n",
       "      <td>0</td>\n",
       "      <td>2722.20</td>\n",
       "      <td>9660.15</td>\n",
       "      <td>0</td>\n",
       "      <td>0</td>\n",
       "      <td>Attitude of support person</td>\n",
       "    </tr>\n",
       "  </tbody>\n",
       "</table>\n",
       "<p>5 rows × 38 columns</p>\n",
       "</div>"
      ],
      "text/plain": [
       "   Customer ID  Gender  Age  Married  Number of Dependents  City  Zip Code  \\\n",
       "0         1118       0   46        0                     0     1     93510   \n",
       "1         2312       1   69        1                     0     1     93510   \n",
       "2         4359       1   34        0                     0     2     92301   \n",
       "3         6354       1   54        0                     0     3     96006   \n",
       "4         4967       1   53        1                     0     4     91301   \n",
       "\n",
       "    Latitude   Longitude  Number of Referrals  ...  Payment Method  \\\n",
       "0  34.501452 -118.207862                    0  ...               1   \n",
       "1  34.501452 -118.207862                    0  ...               0   \n",
       "2  34.667815 -117.536183                    0  ...               1   \n",
       "3  41.171578 -120.913161                    0  ...               0   \n",
       "4  34.129058 -118.759788                    0  ...               0   \n",
       "\n",
       "   Monthly Charge  Total Charges  Total Refunds  Total Extra Data Charges  \\\n",
       "0           44.05         202.15            0.0                         0   \n",
       "1           79.30        2414.55            0.0                         0   \n",
       "2           45.80         436.20            0.0                         0   \n",
       "3           69.15         488.65            0.0                         0   \n",
       "4          108.65        6937.95            0.0                         0   \n",
       "\n",
       "   Total Long Distance Charges  Total Revenue  Customer_Status  \\\n",
       "0                        54.95         257.10                2   \n",
       "1                       305.95        2720.50                2   \n",
       "2                       154.50         590.70                2   \n",
       "3                       147.84         636.49                2   \n",
       "4                      2722.20        9660.15                0   \n",
       "\n",
       "   Churn Category                Churn_Reason  \n",
       "0               1                         NaN  \n",
       "1               1                         NaN  \n",
       "2               1                         NaN  \n",
       "3               1                         NaN  \n",
       "4               0  Attitude of support person  \n",
       "\n",
       "[5 rows x 38 columns]"
      ]
     },
     "execution_count": 52,
     "metadata": {},
     "output_type": "execute_result"
    }
   ],
   "source": [
    " df.head()"
   ]
  },
  {
   "cell_type": "code",
   "execution_count": 53,
   "id": "23e39e39",
   "metadata": {},
   "outputs": [],
   "source": [
    "df1=df[['Age','Married' ,'Customer_Status' ,'Churn_Reason']]"
   ]
  },
  {
   "cell_type": "code",
   "execution_count": 54,
   "id": "8bf8870f",
   "metadata": {},
   "outputs": [
    {
     "data": {
      "text/html": [
       "<div>\n",
       "<style scoped>\n",
       "    .dataframe tbody tr th:only-of-type {\n",
       "        vertical-align: middle;\n",
       "    }\n",
       "\n",
       "    .dataframe tbody tr th {\n",
       "        vertical-align: top;\n",
       "    }\n",
       "\n",
       "    .dataframe thead th {\n",
       "        text-align: right;\n",
       "    }\n",
       "</style>\n",
       "<table border=\"1\" class=\"dataframe\">\n",
       "  <thead>\n",
       "    <tr style=\"text-align: right;\">\n",
       "      <th></th>\n",
       "      <th>Age</th>\n",
       "      <th>Married</th>\n",
       "      <th>Customer_Status</th>\n",
       "      <th>Churn_Reason</th>\n",
       "    </tr>\n",
       "  </thead>\n",
       "  <tbody>\n",
       "    <tr>\n",
       "      <th>0</th>\n",
       "      <td>46</td>\n",
       "      <td>0</td>\n",
       "      <td>2</td>\n",
       "      <td>NaN</td>\n",
       "    </tr>\n",
       "    <tr>\n",
       "      <th>1</th>\n",
       "      <td>69</td>\n",
       "      <td>1</td>\n",
       "      <td>2</td>\n",
       "      <td>NaN</td>\n",
       "    </tr>\n",
       "    <tr>\n",
       "      <th>2</th>\n",
       "      <td>34</td>\n",
       "      <td>0</td>\n",
       "      <td>2</td>\n",
       "      <td>NaN</td>\n",
       "    </tr>\n",
       "    <tr>\n",
       "      <th>3</th>\n",
       "      <td>54</td>\n",
       "      <td>0</td>\n",
       "      <td>2</td>\n",
       "      <td>NaN</td>\n",
       "    </tr>\n",
       "    <tr>\n",
       "      <th>4</th>\n",
       "      <td>53</td>\n",
       "      <td>1</td>\n",
       "      <td>0</td>\n",
       "      <td>Attitude of support person</td>\n",
       "    </tr>\n",
       "    <tr>\n",
       "      <th>...</th>\n",
       "      <td>...</td>\n",
       "      <td>...</td>\n",
       "      <td>...</td>\n",
       "      <td>...</td>\n",
       "    </tr>\n",
       "    <tr>\n",
       "      <th>7038</th>\n",
       "      <td>31</td>\n",
       "      <td>1</td>\n",
       "      <td>1</td>\n",
       "      <td>NaN</td>\n",
       "    </tr>\n",
       "    <tr>\n",
       "      <th>7039</th>\n",
       "      <td>59</td>\n",
       "      <td>1</td>\n",
       "      <td>1</td>\n",
       "      <td>NaN</td>\n",
       "    </tr>\n",
       "    <tr>\n",
       "      <th>7040</th>\n",
       "      <td>61</td>\n",
       "      <td>1</td>\n",
       "      <td>2</td>\n",
       "      <td>NaN</td>\n",
       "    </tr>\n",
       "    <tr>\n",
       "      <th>7041</th>\n",
       "      <td>21</td>\n",
       "      <td>1</td>\n",
       "      <td>2</td>\n",
       "      <td>NaN</td>\n",
       "    </tr>\n",
       "    <tr>\n",
       "      <th>7042</th>\n",
       "      <td>80</td>\n",
       "      <td>1</td>\n",
       "      <td>2</td>\n",
       "      <td>NaN</td>\n",
       "    </tr>\n",
       "  </tbody>\n",
       "</table>\n",
       "<p>7043 rows × 4 columns</p>\n",
       "</div>"
      ],
      "text/plain": [
       "      Age  Married  Customer_Status                Churn_Reason\n",
       "0      46        0                2                         NaN\n",
       "1      69        1                2                         NaN\n",
       "2      34        0                2                         NaN\n",
       "3      54        0                2                         NaN\n",
       "4      53        1                0  Attitude of support person\n",
       "...   ...      ...              ...                         ...\n",
       "7038   31        1                1                         NaN\n",
       "7039   59        1                1                         NaN\n",
       "7040   61        1                2                         NaN\n",
       "7041   21        1                2                         NaN\n",
       "7042   80        1                2                         NaN\n",
       "\n",
       "[7043 rows x 4 columns]"
      ]
     },
     "execution_count": 54,
     "metadata": {},
     "output_type": "execute_result"
    }
   ],
   "source": [
    "df1"
   ]
  },
  {
   "cell_type": "code",
   "execution_count": 55,
   "id": "083935f5",
   "metadata": {},
   "outputs": [],
   "source": [
    "df2=df1[df1.Customer_Status==0]"
   ]
  },
  {
   "cell_type": "code",
   "execution_count": 56,
   "id": "38be9a4d",
   "metadata": {},
   "outputs": [
    {
     "data": {
      "text/html": [
       "<div>\n",
       "<style scoped>\n",
       "    .dataframe tbody tr th:only-of-type {\n",
       "        vertical-align: middle;\n",
       "    }\n",
       "\n",
       "    .dataframe tbody tr th {\n",
       "        vertical-align: top;\n",
       "    }\n",
       "\n",
       "    .dataframe thead th {\n",
       "        text-align: right;\n",
       "    }\n",
       "</style>\n",
       "<table border=\"1\" class=\"dataframe\">\n",
       "  <thead>\n",
       "    <tr style=\"text-align: right;\">\n",
       "      <th></th>\n",
       "      <th>Age</th>\n",
       "      <th>Married</th>\n",
       "      <th>Customer_Status</th>\n",
       "      <th>Churn_Reason</th>\n",
       "    </tr>\n",
       "  </thead>\n",
       "  <tbody>\n",
       "    <tr>\n",
       "      <th>7027</th>\n",
       "      <td>67</td>\n",
       "      <td>1</td>\n",
       "      <td>0</td>\n",
       "      <td>Competitor had better devices</td>\n",
       "    </tr>\n",
       "    <tr>\n",
       "      <th>7028</th>\n",
       "      <td>32</td>\n",
       "      <td>1</td>\n",
       "      <td>0</td>\n",
       "      <td>Competitor offered more data</td>\n",
       "    </tr>\n",
       "    <tr>\n",
       "      <th>7029</th>\n",
       "      <td>64</td>\n",
       "      <td>1</td>\n",
       "      <td>0</td>\n",
       "      <td>Competitor had better devices</td>\n",
       "    </tr>\n",
       "    <tr>\n",
       "      <th>7034</th>\n",
       "      <td>55</td>\n",
       "      <td>1</td>\n",
       "      <td>0</td>\n",
       "      <td>Price too high</td>\n",
       "    </tr>\n",
       "    <tr>\n",
       "      <th>7037</th>\n",
       "      <td>29</td>\n",
       "      <td>1</td>\n",
       "      <td>0</td>\n",
       "      <td>Product dissatisfaction</td>\n",
       "    </tr>\n",
       "  </tbody>\n",
       "</table>\n",
       "</div>"
      ],
      "text/plain": [
       "      Age  Married  Customer_Status                   Churn_Reason\n",
       "7027   67        1                0  Competitor had better devices\n",
       "7028   32        1                0   Competitor offered more data\n",
       "7029   64        1                0  Competitor had better devices\n",
       "7034   55        1                0                 Price too high\n",
       "7037   29        1                0        Product dissatisfaction"
      ]
     },
     "execution_count": 56,
     "metadata": {},
     "output_type": "execute_result"
    }
   ],
   "source": [
    "df2.tail(5)"
   ]
  },
  {
   "cell_type": "code",
   "execution_count": 57,
   "id": "4c8367dc",
   "metadata": {},
   "outputs": [
    {
     "data": {
      "text/html": [
       "<div>\n",
       "<style scoped>\n",
       "    .dataframe tbody tr th:only-of-type {\n",
       "        vertical-align: middle;\n",
       "    }\n",
       "\n",
       "    .dataframe tbody tr th {\n",
       "        vertical-align: top;\n",
       "    }\n",
       "\n",
       "    .dataframe thead th {\n",
       "        text-align: right;\n",
       "    }\n",
       "</style>\n",
       "<table border=\"1\" class=\"dataframe\">\n",
       "  <thead>\n",
       "    <tr style=\"text-align: right;\">\n",
       "      <th></th>\n",
       "      <th>Age</th>\n",
       "      <th>Married</th>\n",
       "      <th>Customer_Status</th>\n",
       "      <th>Churn_Reason</th>\n",
       "    </tr>\n",
       "  </thead>\n",
       "  <tbody>\n",
       "    <tr>\n",
       "      <th>4</th>\n",
       "      <td>53</td>\n",
       "      <td>1</td>\n",
       "      <td>0</td>\n",
       "      <td>Attitude of support person</td>\n",
       "    </tr>\n",
       "    <tr>\n",
       "      <th>195</th>\n",
       "      <td>37</td>\n",
       "      <td>1</td>\n",
       "      <td>0</td>\n",
       "      <td>Lack of self-service on Website</td>\n",
       "    </tr>\n",
       "    <tr>\n",
       "      <th>243</th>\n",
       "      <td>47</td>\n",
       "      <td>1</td>\n",
       "      <td>0</td>\n",
       "      <td>Long distance charges</td>\n",
       "    </tr>\n",
       "    <tr>\n",
       "      <th>373</th>\n",
       "      <td>69</td>\n",
       "      <td>1</td>\n",
       "      <td>0</td>\n",
       "      <td>Competitor offered higher download speeds</td>\n",
       "    </tr>\n",
       "    <tr>\n",
       "      <th>480</th>\n",
       "      <td>75</td>\n",
       "      <td>1</td>\n",
       "      <td>0</td>\n",
       "      <td>Competitor made better offer</td>\n",
       "    </tr>\n",
       "    <tr>\n",
       "      <th>...</th>\n",
       "      <td>...</td>\n",
       "      <td>...</td>\n",
       "      <td>...</td>\n",
       "      <td>...</td>\n",
       "    </tr>\n",
       "    <tr>\n",
       "      <th>7027</th>\n",
       "      <td>67</td>\n",
       "      <td>1</td>\n",
       "      <td>0</td>\n",
       "      <td>Competitor had better devices</td>\n",
       "    </tr>\n",
       "    <tr>\n",
       "      <th>7028</th>\n",
       "      <td>32</td>\n",
       "      <td>1</td>\n",
       "      <td>0</td>\n",
       "      <td>Competitor offered more data</td>\n",
       "    </tr>\n",
       "    <tr>\n",
       "      <th>7029</th>\n",
       "      <td>64</td>\n",
       "      <td>1</td>\n",
       "      <td>0</td>\n",
       "      <td>Competitor had better devices</td>\n",
       "    </tr>\n",
       "    <tr>\n",
       "      <th>7034</th>\n",
       "      <td>55</td>\n",
       "      <td>1</td>\n",
       "      <td>0</td>\n",
       "      <td>Price too high</td>\n",
       "    </tr>\n",
       "    <tr>\n",
       "      <th>7037</th>\n",
       "      <td>29</td>\n",
       "      <td>1</td>\n",
       "      <td>0</td>\n",
       "      <td>Product dissatisfaction</td>\n",
       "    </tr>\n",
       "  </tbody>\n",
       "</table>\n",
       "<p>669 rows × 4 columns</p>\n",
       "</div>"
      ],
      "text/plain": [
       "      Age  Married  Customer_Status                               Churn_Reason\n",
       "4      53        1                0                 Attitude of support person\n",
       "195    37        1                0            Lack of self-service on Website\n",
       "243    47        1                0                      Long distance charges\n",
       "373    69        1                0  Competitor offered higher download speeds\n",
       "480    75        1                0               Competitor made better offer\n",
       "...   ...      ...              ...                                        ...\n",
       "7027   67        1                0              Competitor had better devices\n",
       "7028   32        1                0               Competitor offered more data\n",
       "7029   64        1                0              Competitor had better devices\n",
       "7034   55        1                0                             Price too high\n",
       "7037   29        1                0                    Product dissatisfaction\n",
       "\n",
       "[669 rows x 4 columns]"
      ]
     },
     "execution_count": 57,
     "metadata": {},
     "output_type": "execute_result"
    }
   ],
   "source": [
    "df3=df2[(df2.Married==1)&(df2.Churn_Reason!=\"NaN\")]\n",
    "df3"
   ]
  },
  {
   "cell_type": "code",
   "execution_count": 58,
   "id": "9e4c3a6a",
   "metadata": {},
   "outputs": [],
   "source": [
    "#df1=df['Churn_Reason']"
   ]
  },
  {
   "cell_type": "code",
   "execution_count": 59,
   "id": "46fdaf1a",
   "metadata": {},
   "outputs": [],
   "source": [
    "import nltk"
   ]
  },
  {
   "cell_type": "code",
   "execution_count": 60,
   "id": "a06a386c",
   "metadata": {},
   "outputs": [
    {
     "name": "stderr",
     "output_type": "stream",
     "text": [
      "[nltk_data] Downloading package stopwords to\n",
      "[nltk_data]     C:\\Users\\ridam\\AppData\\Roaming\\nltk_data...\n",
      "[nltk_data]   Package stopwords is already up-to-date!\n",
      "[nltk_data] Downloading package punkt to\n",
      "[nltk_data]     C:\\Users\\ridam\\AppData\\Roaming\\nltk_data...\n",
      "[nltk_data]   Package punkt is already up-to-date!\n"
     ]
    },
    {
     "data": {
      "text/plain": [
       "True"
      ]
     },
     "execution_count": 60,
     "metadata": {},
     "output_type": "execute_result"
    }
   ],
   "source": [
    "from nltk.corpus import stopwords\n",
    "nltk.download('stopwords')\n",
    "from nltk.tokenize import word_tokenize\n",
    "nltk.download('punkt')"
   ]
  },
  {
   "cell_type": "code",
   "execution_count": 61,
   "id": "c00fd4e8",
   "metadata": {},
   "outputs": [
    {
     "name": "stderr",
     "output_type": "stream",
     "text": [
      "C:\\Users\\ridam\\AppData\\Local\\Temp\\ipykernel_10584\\3716799792.py:8: SettingWithCopyWarning: \n",
      "A value is trying to be set on a copy of a slice from a DataFrame.\n",
      "Try using .loc[row_indexer,col_indexer] = value instead\n",
      "\n",
      "See the caveats in the documentation: https://pandas.pydata.org/pandas-docs/stable/user_guide/indexing.html#returning-a-view-versus-a-copy\n",
      "  df2['Churn_Reason']=df2['Churn_Reason'].apply(remove_stopwords)\n"
     ]
    }
   ],
   "source": [
    "stop_words = set(stopwords.words('english'))\n",
    "\n",
    "def remove_stopwords(text):\n",
    "    tokens = nltk.word_tokenize(text)\n",
    "    filtered_tokens = [word for word in tokens if word.lower() not in stop_words]\n",
    "    return ' '.join(filtered_tokens)\n",
    "\n",
    "df2['Churn_Reason']=df2['Churn_Reason'].apply(remove_stopwords)"
   ]
  },
  {
   "cell_type": "code",
   "execution_count": 62,
   "id": "ec8987fa",
   "metadata": {},
   "outputs": [
    {
     "data": {
      "text/html": [
       "<div>\n",
       "<style scoped>\n",
       "    .dataframe tbody tr th:only-of-type {\n",
       "        vertical-align: middle;\n",
       "    }\n",
       "\n",
       "    .dataframe tbody tr th {\n",
       "        vertical-align: top;\n",
       "    }\n",
       "\n",
       "    .dataframe thead th {\n",
       "        text-align: right;\n",
       "    }\n",
       "</style>\n",
       "<table border=\"1\" class=\"dataframe\">\n",
       "  <thead>\n",
       "    <tr style=\"text-align: right;\">\n",
       "      <th></th>\n",
       "      <th>Age</th>\n",
       "      <th>Married</th>\n",
       "      <th>Customer_Status</th>\n",
       "      <th>Churn_Reason</th>\n",
       "    </tr>\n",
       "  </thead>\n",
       "  <tbody>\n",
       "    <tr>\n",
       "      <th>4</th>\n",
       "      <td>53</td>\n",
       "      <td>1</td>\n",
       "      <td>0</td>\n",
       "      <td>Attitude of support person</td>\n",
       "    </tr>\n",
       "    <tr>\n",
       "      <th>195</th>\n",
       "      <td>37</td>\n",
       "      <td>1</td>\n",
       "      <td>0</td>\n",
       "      <td>Lack of self-service on Website</td>\n",
       "    </tr>\n",
       "    <tr>\n",
       "      <th>243</th>\n",
       "      <td>47</td>\n",
       "      <td>1</td>\n",
       "      <td>0</td>\n",
       "      <td>Long distance charges</td>\n",
       "    </tr>\n",
       "    <tr>\n",
       "      <th>373</th>\n",
       "      <td>69</td>\n",
       "      <td>1</td>\n",
       "      <td>0</td>\n",
       "      <td>Competitor offered higher download speeds</td>\n",
       "    </tr>\n",
       "    <tr>\n",
       "      <th>480</th>\n",
       "      <td>75</td>\n",
       "      <td>1</td>\n",
       "      <td>0</td>\n",
       "      <td>Competitor made better offer</td>\n",
       "    </tr>\n",
       "  </tbody>\n",
       "</table>\n",
       "</div>"
      ],
      "text/plain": [
       "     Age  Married  Customer_Status                               Churn_Reason\n",
       "4     53        1                0                 Attitude of support person\n",
       "195   37        1                0            Lack of self-service on Website\n",
       "243   47        1                0                      Long distance charges\n",
       "373   69        1                0  Competitor offered higher download speeds\n",
       "480   75        1                0               Competitor made better offer"
      ]
     },
     "execution_count": 62,
     "metadata": {},
     "output_type": "execute_result"
    }
   ],
   "source": [
    "df3.head()"
   ]
  },
  {
   "cell_type": "code",
   "execution_count": 63,
   "id": "3a28e29d",
   "metadata": {},
   "outputs": [
    {
     "name": "stderr",
     "output_type": "stream",
     "text": [
      "C:\\Users\\ridam\\AppData\\Local\\Temp\\ipykernel_10584\\1569763931.py:8: SettingWithCopyWarning: \n",
      "A value is trying to be set on a copy of a slice from a DataFrame.\n",
      "Try using .loc[row_indexer,col_indexer] = value instead\n",
      "\n",
      "See the caveats in the documentation: https://pandas.pydata.org/pandas-docs/stable/user_guide/indexing.html#returning-a-view-versus-a-copy\n",
      "  df2['Churn_Reason']=df2['Churn_Reason'].apply(remove_stopwords)\n",
      "[nltk_data] Downloading package averaged_perceptron_tagger to\n",
      "[nltk_data]     C:\\Users\\ridam\\AppData\\Roaming\\nltk_data...\n",
      "[nltk_data]   Package averaged_perceptron_tagger is already up-to-\n",
      "[nltk_data]       date!\n",
      "C:\\Users\\ridam\\AppData\\Local\\Temp\\ipykernel_10584\\1569763931.py:19: SettingWithCopyWarning: \n",
      "A value is trying to be set on a copy of a slice from a DataFrame.\n",
      "Try using .loc[row_indexer,col_indexer] = value instead\n",
      "\n",
      "See the caveats in the documentation: https://pandas.pydata.org/pandas-docs/stable/user_guide/indexing.html#returning-a-view-versus-a-copy\n",
      "  df2['Churn_Reason']=df2['Churn_Reason'].apply(remove_pronouns)\n"
     ]
    }
   ],
   "source": [
    "stop_words = set(stopwords.words('english'))\n",
    "\n",
    "def remove_stopwords(text):\n",
    "    tokens = nltk.word_tokenize(text)\n",
    "    filtered_tokens = [word for word in tokens if word.lower() not in stop_words]\n",
    "    return ' '.join(filtered_tokens)\n",
    "\n",
    "df2['Churn_Reason']=df2['Churn_Reason'].apply(remove_stopwords)\n",
    "\n",
    "nltk.download('averaged_perceptron_tagger')\n",
    "\n",
    "def remove_pronouns(text):\n",
    "    tokens = word_tokenize(text)\n",
    "    tagged_words = nltk.pos_tag(tokens)\n",
    "    pronouns = ['NNP']  # POS tags for pronouns\n",
    "    filtered_tokens = [word for word, pos in tagged_words if pos not in pronouns]\n",
    "    return ' '.join(filtered_tokens)\n",
    "\n",
    "df2['Churn_Reason']=df2['Churn_Reason'].apply(remove_pronouns)"
   ]
  },
  {
   "cell_type": "code",
   "execution_count": 64,
   "id": "85aaa146",
   "metadata": {},
   "outputs": [
    {
     "data": {
      "text/html": [
       "<div>\n",
       "<style scoped>\n",
       "    .dataframe tbody tr th:only-of-type {\n",
       "        vertical-align: middle;\n",
       "    }\n",
       "\n",
       "    .dataframe tbody tr th {\n",
       "        vertical-align: top;\n",
       "    }\n",
       "\n",
       "    .dataframe thead th {\n",
       "        text-align: right;\n",
       "    }\n",
       "</style>\n",
       "<table border=\"1\" class=\"dataframe\">\n",
       "  <thead>\n",
       "    <tr style=\"text-align: right;\">\n",
       "      <th></th>\n",
       "      <th>Age</th>\n",
       "      <th>Married</th>\n",
       "      <th>Customer_Status</th>\n",
       "      <th>Churn_Reason</th>\n",
       "    </tr>\n",
       "  </thead>\n",
       "  <tbody>\n",
       "    <tr>\n",
       "      <th>7027</th>\n",
       "      <td>67</td>\n",
       "      <td>1</td>\n",
       "      <td>0</td>\n",
       "      <td>better devices</td>\n",
       "    </tr>\n",
       "    <tr>\n",
       "      <th>7028</th>\n",
       "      <td>32</td>\n",
       "      <td>1</td>\n",
       "      <td>0</td>\n",
       "      <td>Competitor offered data</td>\n",
       "    </tr>\n",
       "    <tr>\n",
       "      <th>7029</th>\n",
       "      <td>64</td>\n",
       "      <td>1</td>\n",
       "      <td>0</td>\n",
       "      <td>better devices</td>\n",
       "    </tr>\n",
       "    <tr>\n",
       "      <th>7034</th>\n",
       "      <td>55</td>\n",
       "      <td>1</td>\n",
       "      <td>0</td>\n",
       "      <td>high</td>\n",
       "    </tr>\n",
       "    <tr>\n",
       "      <th>7037</th>\n",
       "      <td>29</td>\n",
       "      <td>1</td>\n",
       "      <td>0</td>\n",
       "      <td>Product dissatisfaction</td>\n",
       "    </tr>\n",
       "  </tbody>\n",
       "</table>\n",
       "</div>"
      ],
      "text/plain": [
       "      Age  Married  Customer_Status             Churn_Reason\n",
       "7027   67        1                0           better devices\n",
       "7028   32        1                0  Competitor offered data\n",
       "7029   64        1                0           better devices\n",
       "7034   55        1                0                     high\n",
       "7037   29        1                0  Product dissatisfaction"
      ]
     },
     "execution_count": 64,
     "metadata": {},
     "output_type": "execute_result"
    }
   ],
   "source": [
    "df2.tail()"
   ]
  },
  {
   "cell_type": "code",
   "execution_count": 65,
   "id": "d8eb45de",
   "metadata": {},
   "outputs": [],
   "source": [
    "from sklearn.feature_extraction.text import CountVectorizer\n",
    "cv=CountVectorizer(max_features=5000)"
   ]
  },
  {
   "cell_type": "code",
   "execution_count": 66,
   "id": "32fecb8f",
   "metadata": {},
   "outputs": [],
   "source": [
    "vectors=cv.fit_transform(df2['Churn_Reason'])\n"
   ]
  },
  {
   "cell_type": "code",
   "execution_count": 67,
   "id": "98616d2b",
   "metadata": {},
   "outputs": [
    {
     "name": "stdout",
     "output_type": "stream",
     "text": [
      "['affordable', 'better', 'charges', 'competitor', 'data', 'deceased', 'devices', 'dissatisfaction', 'distance', 'download', 'expertise', 'high', 'higher', 'know', 'limited', 'long', 'made', 'moved', 'offer', 'offered', 'online', 'person', 'phone', 'product', 'provider', 'range', 'reliability', 'self', 'service', 'services', 'speed', 'speeds', 'support', 'upload']\n"
     ]
    },
    {
     "name": "stderr",
     "output_type": "stream",
     "text": [
      "C:\\Users\\ridam\\anaconda3\\lib\\site-packages\\sklearn\\utils\\deprecation.py:87: FutureWarning: Function get_feature_names is deprecated; get_feature_names is deprecated in 1.0 and will be removed in 1.2. Please use get_feature_names_out instead.\n",
      "  warnings.warn(msg, category=FutureWarning)\n"
     ]
    }
   ],
   "source": [
    "x=cv.get_feature_names()\n",
    "print(x)"
   ]
  },
  {
   "cell_type": "code",
   "execution_count": 68,
   "id": "2659ed64",
   "metadata": {},
   "outputs": [],
   "source": [
    "from collections import Counter\n",
    "text=' '.join(df2['Churn_Reason'])"
   ]
  },
  {
   "cell_type": "code",
   "execution_count": 69,
   "id": "f460f716",
   "metadata": {},
   "outputs": [
    {
     "name": "stdout",
     "output_type": "stream",
     "text": [
      "support - 263\n",
      "person - 220\n",
      "service - 94\n",
      "provider - 94\n",
      "Competitor - 528\n",
      "offered - 217\n",
      "data - 156\n",
      "higher - 100\n",
      "download - 100\n",
      "speeds - 100\n",
      "expertise - 43\n",
      "online - 31\n",
      "made - 311\n",
      "better - 624\n",
      "offer - 311\n",
      "Limited - 37\n",
      "range - 37\n",
      "services - 37\n",
      "devices - 313\n",
      "n't - 130\n",
      "know - 130\n",
      "reliability - 72\n",
      "high - 78\n",
      "Product - 77\n",
      "dissatisfaction - 140\n",
      "affordable - 30\n",
      "download/upload - 30\n",
      "speed - 30\n",
      "phone - 12\n",
      "Long - 64\n",
      "distance - 64\n",
      "charges - 103\n",
      "self-service - 29\n",
      "Moved - 46\n",
      "Deceased - 6\n",
      "[263, 220, 94, 94, 528, 217, 156, 100, 100, 100, 43, 31, 311, 624, 311, 37, 37, 37, 313, 130, 130, 72, 78, 77, 140, 30, 30, 30, 12, 64, 64, 103, 29, 46, 6]\n"
     ]
    }
   ],
   "source": [
    "words = text.split()\n",
    "\n",
    "frequency=Counter(words)\n",
    "tf=[]\n",
    "for word,freq in frequency.items():\n",
    "    print(word,\"-\",freq)\n",
    "    tf.append(freq)\n",
    "print(tf) "
   ]
  },
  {
   "cell_type": "code",
   "execution_count": 70,
   "id": "c69e2a5c",
   "metadata": {
    "scrolled": true
   },
   "outputs": [
    {
     "name": "stdout",
     "output_type": "stream",
     "text": [
      "Unique reasons for churn:\n",
      "['attitude of support person', 'lack of self-service on website', 'long distance charges', 'competitor offered higher download speeds', 'competitor made better offer', 'extra data charges', 'attitude of service provider', 'competitor had better devices', 'competitor offered more data', 'price too high', 'poor expertise of online support', 'product dissatisfaction', 'poor expertise of phone support', 'network reliability', 'moved', \"don't know\", 'service dissatisfaction', 'lack of affordable download/upload speed', 'deceased', 'limited range of services']\n",
      "\n",
      " ['affordable', 'better', 'charges', 'competitor', 'data', 'deceased', 'devices', 'dissatisfaction', 'distance', 'download', 'expertise', 'high', 'higher', 'know', 'limited', 'long', 'made', 'moved', 'offer', 'offered', 'online', 'person', 'phone', 'product', 'provider', 'range', 'reliability', 'self', 'service', 'services', 'speed', 'speeds', 'support', 'upload']\n"
     ]
    }
   ],
   "source": [
    "df4 = df3[\"Churn_Reason\"] \n",
    "unique_reasons = df3[\"Churn_Reason\"].unique().tolist()\n",
    "print(\"Unique reasons for churn:\")\n",
    "#print(unique_reasons)\n",
    "\n",
    "lowercase_unique_reasons = [reason.lower() for reason in unique_reasons]\n",
    "print(lowercase_unique_reasons)\n",
    "\n",
    "print(\"\\n\",x)"
   ]
  },
  {
   "cell_type": "code",
   "execution_count": 71,
   "id": "f02a3d20",
   "metadata": {},
   "outputs": [
    {
     "name": "stdout",
     "output_type": "stream",
     "text": [
      "Word Document Frequency:\n",
      "['affordable: 1', 'better: 2', 'charges: 2', 'competitor: 4', 'data: 2', 'deceased: 1', 'devices: 1', 'dissatisfaction: 2', 'distance: 1', 'download: 2', 'expertise: 2', 'high: 2', 'higher: 1', 'know: 1', 'limited: 1', 'long: 1', 'made: 1', 'moved: 1', 'offer: 3', 'offered: 2', 'online: 1', 'person: 1', 'phone: 1', 'product: 1', 'provider: 1', 'range: 1', 'reliability: 1', 'self: 1', 'service: 4', 'services: 1', 'speed: 2', 'speeds: 1', 'support: 3', 'upload: 1']\n",
      "<class 'list'>\n"
     ]
    }
   ],
   "source": [
    "y=[]\n",
    "for i in range(len(x)):\n",
    "    unique_words = x[i] \n",
    "    \n",
    "    word_df = {word: [] for word in x}\n",
    "    \n",
    "    for word in x:\n",
    "\n",
    "        for reason in lowercase_unique_reasons:\n",
    "            if word in reason:\n",
    "                word_df[word].append(1)\n",
    "                \n",
    "    word_count = {word: sum(counts) for word, counts in word_df.items()}\n",
    "    \n",
    "print(\"Word Document Frequency:\")\n",
    "for word, freq in word_count.items():\n",
    "    z=f\"{word}: {freq}\"\n",
    "    y.append(z)\n",
    "\n",
    "print(y)\n",
    "\n",
    "print(type(y))"
   ]
  },
  {
   "cell_type": "code",
   "execution_count": 72,
   "id": "c1f09369",
   "metadata": {},
   "outputs": [],
   "source": [
    "f=[]\n",
    "for word, freq in word_count.items():\n",
    "    f.append(freq)\n",
    "   # print(freq)    "
   ]
  },
  {
   "cell_type": "code",
   "execution_count": 73,
   "id": "7fb7205e",
   "metadata": {},
   "outputs": [
    {
     "name": "stdout",
     "output_type": "stream",
     "text": [
      "IDF of 'affordable': 2.995732273553991\n",
      "IDF of 'better': 2.302585092994046\n",
      "IDF of 'charges': 2.302585092994046\n",
      "IDF of 'competitor': 1.6094379124341003\n",
      "IDF of 'data': 2.302585092994046\n",
      "IDF of 'deceased': 2.995732273553991\n",
      "IDF of 'devices': 2.995732273553991\n",
      "IDF of 'dissatisfaction': 2.302585092994046\n",
      "IDF of 'distance': 2.995732273553991\n",
      "IDF of 'download': 2.302585092994046\n",
      "IDF of 'expertise': 2.302585092994046\n",
      "IDF of 'high': 2.302585092994046\n",
      "IDF of 'higher': 2.995732273553991\n",
      "IDF of 'know': 2.995732273553991\n",
      "IDF of 'limited': 2.995732273553991\n",
      "IDF of 'long': 2.995732273553991\n",
      "IDF of 'made': 2.995732273553991\n",
      "IDF of 'moved': 2.995732273553991\n",
      "IDF of 'offer': 1.8971199848858813\n",
      "IDF of 'offered': 2.302585092994046\n",
      "IDF of 'online': 2.995732273553991\n",
      "IDF of 'person': 2.995732273553991\n",
      "IDF of 'phone': 2.995732273553991\n",
      "IDF of 'product': 2.995732273553991\n",
      "IDF of 'provider': 2.995732273553991\n",
      "IDF of 'range': 2.995732273553991\n",
      "IDF of 'reliability': 2.995732273553991\n",
      "IDF of 'self': 2.995732273553991\n",
      "IDF of 'service': 1.6094379124341003\n",
      "IDF of 'services': 2.995732273553991\n",
      "IDF of 'speed': 2.302585092994046\n",
      "IDF of 'speeds': 2.995732273553991\n",
      "IDF of 'support': 1.8971199848858813\n",
      "IDF of 'upload': 2.995732273553991\n"
     ]
    }
   ],
   "source": [
    "import math\n",
    "\n",
    "def calculate_idf(term, documents):\n",
    "    num_documents = len(documents)\n",
    "    term_appearance_count = sum(1 for doc in documents if term in doc)\n",
    "    \n",
    "    if term_appearance_count == 0:\n",
    "        return 0\n",
    "    \n",
    "    return math.log(num_documents / term_appearance_count)\n",
    "IDF=[]\n",
    "for term in x:    \n",
    "    idf = calculate_idf(term, lowercase_unique_reasons)\n",
    "    print(f\"IDF of '{term}': {idf}\")\n",
    "    IDF.append(idf)\n",
    "#print(IDF)"
   ]
  },
  {
   "cell_type": "code",
   "execution_count": 74,
   "id": "4cb60a82",
   "metadata": {},
   "outputs": [
    {
     "name": "stdout",
     "output_type": "stream",
     "text": [
      "Weight of 'affordable': 787.8775879446996\n",
      "Weight of 'better': 506.5687204586901\n",
      "Weight of 'charges': 216.4429987414403\n",
      "Weight of 'competitor': 151.2871637688054\n",
      "Weight of 'data': 1215.7649291008563\n",
      "Weight of 'deceased': 650.073903361216\n",
      "Weight of 'devices': 467.3342346744226\n",
      "Weight of 'dissatisfaction': 230.25850929940458\n",
      "Weight of 'distance': 299.57322735539907\n",
      "Weight of 'download': 230.25850929940458\n",
      "Weight of 'expertise': 99.01115899874398\n",
      "Weight of 'high': 71.38013788281542\n",
      "Weight of 'higher': 931.6727370752911\n",
      "Weight of 'know': 1869.3369386976904\n",
      "Weight of 'limited': 931.6727370752911\n",
      "Weight of 'long': 110.84209412149767\n",
      "Weight of 'made': 110.84209412149767\n",
      "Weight of 'moved': 110.84209412149767\n",
      "Weight of 'offer': 593.7985552692809\n",
      "Weight of 'offered': 299.33606208922595\n",
      "Weight of 'online': 389.4451955620188\n",
      "Weight of 'person': 215.69272369588734\n",
      "Weight of 'phone': 233.6671173372113\n",
      "Weight of 'product': 230.67138506365728\n",
      "Weight of 'provider': 419.40251829755874\n",
      "Weight of 'range': 89.87196820661973\n",
      "Weight of 'reliability': 89.87196820661973\n",
      "Weight of 'self': 89.87196820661973\n",
      "Weight of 'service': 19.313254949209202\n",
      "Weight of 'services': 191.72686550745541\n",
      "Weight of 'speed': 147.36544595161894\n",
      "Weight of 'speeds': 308.5604241760611\n",
      "Weight of 'support': 55.01647956169056\n",
      "Weight of 'upload': 137.80368458348357\n"
     ]
    }
   ],
   "source": [
    "result=[]\n",
    "for i,j in zip(tf,IDF):\n",
    "    result.append(i*j)\n",
    "#print(result)\n",
    "\n",
    "for term,weight in zip(x,result):\n",
    "        print(f\"Weight of '{term}': {weight}\")"
   ]
  },
  {
   "cell_type": "code",
   "execution_count": 75,
   "id": "b83bd3f6",
   "metadata": {},
   "outputs": [],
   "source": [
    "from sklearn.feature_extraction.text import CountVectorizer\n",
    "from sklearn.feature_extraction.text import TfidfTransformer\n",
    "import numpy as np"
   ]
  },
  {
   "cell_type": "code",
   "execution_count": 76,
   "id": "5d70df4e",
   "metadata": {
    "scrolled": true
   },
   "outputs": [
    {
     "name": "stdout",
     "output_type": "stream",
     "text": [
      "Weight of each reason:\n",
      "\n",
      "Competitor offered higher download speeds: 2.198711031088252\n",
      "\n",
      "Competitor offered higher download speeds: 2.198711031088252\n",
      "\n",
      "Competitor offered higher download speeds: 2.198711031088252\n"
     ]
    }
   ],
   "source": [
    "vectors=cv.fit_transform(df2['Churn_Reason'])\n",
    "\n",
    "tfidf_transformer = TfidfTransformer()\n",
    "tfidf_vectors = tfidf_transformer.fit_transform(vectors)\n",
    "print(\"Weight of each reason:\")\n",
    "sum_of_weights = np.asarray(tfidf_vectors.sum(axis=1)).flatten()\n",
    "\n",
    "reason_weights =[ (df2.iloc[idx]['Churn_Reason'],weight_sum) for idx, weight_sum in enumerate(sum_of_weights)]\n",
    "sorted_reason_weights = sorted(reason_weights, key=lambda x: x[1], reverse=True)[:3]\n",
    "for churn_reason, weight_sum in sorted_reason_weights:\n",
    "    print(f\"\\n{churn_reason}: {weight_sum}\")"
   ]
  },
  {
   "cell_type": "markdown",
   "id": "1caaee59",
   "metadata": {},
   "source": [
    "# Modeling"
   ]
  },
  {
   "cell_type": "code",
   "execution_count": 77,
   "id": "1cd847dd",
   "metadata": {},
   "outputs": [],
   "source": [
    "df5=df[['Age','Married','Number of Dependents','Zip Code','Tenure in Months','PhoneService','Offer','Avg Monthly Long Distance Charges','Multiple_Lines','Internet_Service','Internet _Type','Avg Monthly GB Download','Online_Security','Online_Backup','Device_Protection_Plan','Premium _Tech _Support','Streaming TV','Streaming Movies','Streaming Music','Unlimited Data','Contract','Payment Method','Monthly Charge','Total Charges','Total Refunds','Total Extra Data Charges','Total Long Distance Charges','Total Revenue','Customer_Status']]"
   ]
  },
  {
   "cell_type": "code",
   "execution_count": 78,
   "id": "4cdf5fed",
   "metadata": {},
   "outputs": [
    {
     "data": {
      "text/html": [
       "<div>\n",
       "<style scoped>\n",
       "    .dataframe tbody tr th:only-of-type {\n",
       "        vertical-align: middle;\n",
       "    }\n",
       "\n",
       "    .dataframe tbody tr th {\n",
       "        vertical-align: top;\n",
       "    }\n",
       "\n",
       "    .dataframe thead th {\n",
       "        text-align: right;\n",
       "    }\n",
       "</style>\n",
       "<table border=\"1\" class=\"dataframe\">\n",
       "  <thead>\n",
       "    <tr style=\"text-align: right;\">\n",
       "      <th></th>\n",
       "      <th>Age</th>\n",
       "      <th>Married</th>\n",
       "      <th>Number of Dependents</th>\n",
       "      <th>Zip Code</th>\n",
       "      <th>Tenure in Months</th>\n",
       "      <th>PhoneService</th>\n",
       "      <th>Offer</th>\n",
       "      <th>Avg Monthly Long Distance Charges</th>\n",
       "      <th>Multiple_Lines</th>\n",
       "      <th>Internet_Service</th>\n",
       "      <th>...</th>\n",
       "      <th>Unlimited Data</th>\n",
       "      <th>Contract</th>\n",
       "      <th>Payment Method</th>\n",
       "      <th>Monthly Charge</th>\n",
       "      <th>Total Charges</th>\n",
       "      <th>Total Refunds</th>\n",
       "      <th>Total Extra Data Charges</th>\n",
       "      <th>Total Long Distance Charges</th>\n",
       "      <th>Total Revenue</th>\n",
       "      <th>Customer_Status</th>\n",
       "    </tr>\n",
       "  </thead>\n",
       "  <tbody>\n",
       "    <tr>\n",
       "      <th>0</th>\n",
       "      <td>46</td>\n",
       "      <td>0</td>\n",
       "      <td>0</td>\n",
       "      <td>93510</td>\n",
       "      <td>5</td>\n",
       "      <td>1</td>\n",
       "      <td>0</td>\n",
       "      <td>10.99</td>\n",
       "      <td>0</td>\n",
       "      <td>1</td>\n",
       "      <td>...</td>\n",
       "      <td>1</td>\n",
       "      <td>0</td>\n",
       "      <td>1</td>\n",
       "      <td>44.05</td>\n",
       "      <td>202.15</td>\n",
       "      <td>0.0</td>\n",
       "      <td>0</td>\n",
       "      <td>54.95</td>\n",
       "      <td>257.10</td>\n",
       "      <td>2</td>\n",
       "    </tr>\n",
       "    <tr>\n",
       "      <th>1</th>\n",
       "      <td>69</td>\n",
       "      <td>1</td>\n",
       "      <td>0</td>\n",
       "      <td>93510</td>\n",
       "      <td>29</td>\n",
       "      <td>1</td>\n",
       "      <td>0</td>\n",
       "      <td>10.55</td>\n",
       "      <td>1</td>\n",
       "      <td>1</td>\n",
       "      <td>...</td>\n",
       "      <td>1</td>\n",
       "      <td>0</td>\n",
       "      <td>0</td>\n",
       "      <td>79.30</td>\n",
       "      <td>2414.55</td>\n",
       "      <td>0.0</td>\n",
       "      <td>0</td>\n",
       "      <td>305.95</td>\n",
       "      <td>2720.50</td>\n",
       "      <td>2</td>\n",
       "    </tr>\n",
       "    <tr>\n",
       "      <th>2</th>\n",
       "      <td>34</td>\n",
       "      <td>0</td>\n",
       "      <td>0</td>\n",
       "      <td>92301</td>\n",
       "      <td>10</td>\n",
       "      <td>1</td>\n",
       "      <td>0</td>\n",
       "      <td>15.45</td>\n",
       "      <td>0</td>\n",
       "      <td>1</td>\n",
       "      <td>...</td>\n",
       "      <td>1</td>\n",
       "      <td>0</td>\n",
       "      <td>1</td>\n",
       "      <td>45.80</td>\n",
       "      <td>436.20</td>\n",
       "      <td>0.0</td>\n",
       "      <td>0</td>\n",
       "      <td>154.50</td>\n",
       "      <td>590.70</td>\n",
       "      <td>2</td>\n",
       "    </tr>\n",
       "    <tr>\n",
       "      <th>3</th>\n",
       "      <td>54</td>\n",
       "      <td>0</td>\n",
       "      <td>0</td>\n",
       "      <td>96006</td>\n",
       "      <td>7</td>\n",
       "      <td>1</td>\n",
       "      <td>0</td>\n",
       "      <td>21.12</td>\n",
       "      <td>0</td>\n",
       "      <td>1</td>\n",
       "      <td>...</td>\n",
       "      <td>1</td>\n",
       "      <td>0</td>\n",
       "      <td>0</td>\n",
       "      <td>69.15</td>\n",
       "      <td>488.65</td>\n",
       "      <td>0.0</td>\n",
       "      <td>0</td>\n",
       "      <td>147.84</td>\n",
       "      <td>636.49</td>\n",
       "      <td>2</td>\n",
       "    </tr>\n",
       "    <tr>\n",
       "      <th>4</th>\n",
       "      <td>53</td>\n",
       "      <td>1</td>\n",
       "      <td>0</td>\n",
       "      <td>91301</td>\n",
       "      <td>65</td>\n",
       "      <td>1</td>\n",
       "      <td>0</td>\n",
       "      <td>41.88</td>\n",
       "      <td>1</td>\n",
       "      <td>1</td>\n",
       "      <td>...</td>\n",
       "      <td>1</td>\n",
       "      <td>2</td>\n",
       "      <td>0</td>\n",
       "      <td>108.65</td>\n",
       "      <td>6937.95</td>\n",
       "      <td>0.0</td>\n",
       "      <td>0</td>\n",
       "      <td>2722.20</td>\n",
       "      <td>9660.15</td>\n",
       "      <td>0</td>\n",
       "    </tr>\n",
       "  </tbody>\n",
       "</table>\n",
       "<p>5 rows × 29 columns</p>\n",
       "</div>"
      ],
      "text/plain": [
       "   Age  Married  Number of Dependents  Zip Code  Tenure in Months  \\\n",
       "0   46        0                     0     93510                 5   \n",
       "1   69        1                     0     93510                29   \n",
       "2   34        0                     0     92301                10   \n",
       "3   54        0                     0     96006                 7   \n",
       "4   53        1                     0     91301                65   \n",
       "\n",
       "   PhoneService  Offer  Avg Monthly Long Distance Charges  Multiple_Lines  \\\n",
       "0             1      0                              10.99               0   \n",
       "1             1      0                              10.55               1   \n",
       "2             1      0                              15.45               0   \n",
       "3             1      0                              21.12               0   \n",
       "4             1      0                              41.88               1   \n",
       "\n",
       "   Internet_Service  ...  Unlimited Data  Contract  Payment Method  \\\n",
       "0                 1  ...               1         0               1   \n",
       "1                 1  ...               1         0               0   \n",
       "2                 1  ...               1         0               1   \n",
       "3                 1  ...               1         0               0   \n",
       "4                 1  ...               1         2               0   \n",
       "\n",
       "   Monthly Charge  Total Charges  Total Refunds  Total Extra Data Charges  \\\n",
       "0           44.05         202.15            0.0                         0   \n",
       "1           79.30        2414.55            0.0                         0   \n",
       "2           45.80         436.20            0.0                         0   \n",
       "3           69.15         488.65            0.0                         0   \n",
       "4          108.65        6937.95            0.0                         0   \n",
       "\n",
       "   Total Long Distance Charges  Total Revenue  Customer_Status  \n",
       "0                        54.95         257.10                2  \n",
       "1                       305.95        2720.50                2  \n",
       "2                       154.50         590.70                2  \n",
       "3                       147.84         636.49                2  \n",
       "4                      2722.20        9660.15                0  \n",
       "\n",
       "[5 rows x 29 columns]"
      ]
     },
     "execution_count": 78,
     "metadata": {},
     "output_type": "execute_result"
    }
   ],
   "source": [
    "df5.head(5)"
   ]
  },
  {
   "cell_type": "code",
   "execution_count": 79,
   "id": "d9a47fdd",
   "metadata": {},
   "outputs": [
    {
     "data": {
      "text/html": [
       "<div>\n",
       "<style scoped>\n",
       "    .dataframe tbody tr th:only-of-type {\n",
       "        vertical-align: middle;\n",
       "    }\n",
       "\n",
       "    .dataframe tbody tr th {\n",
       "        vertical-align: top;\n",
       "    }\n",
       "\n",
       "    .dataframe thead th {\n",
       "        text-align: right;\n",
       "    }\n",
       "</style>\n",
       "<table border=\"1\" class=\"dataframe\">\n",
       "  <thead>\n",
       "    <tr style=\"text-align: right;\">\n",
       "      <th></th>\n",
       "      <th>Streaming Movies</th>\n",
       "      <th>Tenure in Months</th>\n",
       "      <th>Device_Protection_Plan</th>\n",
       "      <th>Monthly Charge</th>\n",
       "      <th>Payment Method</th>\n",
       "      <th>Multiple_Lines</th>\n",
       "      <th>Zip Code</th>\n",
       "      <th>Internet_Service</th>\n",
       "      <th>Age</th>\n",
       "      <th>Number of Dependents</th>\n",
       "      <th>...</th>\n",
       "      <th>Online_Backup</th>\n",
       "      <th>Premium _Tech _Support</th>\n",
       "      <th>Unlimited Data</th>\n",
       "      <th>Total Extra Data Charges</th>\n",
       "      <th>Total Long Distance Charges</th>\n",
       "      <th>Internet _Type</th>\n",
       "      <th>Total Refunds</th>\n",
       "      <th>Online_Security</th>\n",
       "      <th>Streaming Music</th>\n",
       "      <th>Total Revenue</th>\n",
       "    </tr>\n",
       "  </thead>\n",
       "  <tbody>\n",
       "    <tr>\n",
       "      <th>0</th>\n",
       "      <td>0.0</td>\n",
       "      <td>0.069444</td>\n",
       "      <td>0.0</td>\n",
       "      <td>0.370947</td>\n",
       "      <td>0.5</td>\n",
       "      <td>0.0</td>\n",
       "      <td>0.972543</td>\n",
       "      <td>1.0</td>\n",
       "      <td>0.5750</td>\n",
       "      <td>0.0</td>\n",
       "      <td>...</td>\n",
       "      <td>0.0</td>\n",
       "      <td>0.0</td>\n",
       "      <td>1.0</td>\n",
       "      <td>0.0</td>\n",
       "      <td>0.015415</td>\n",
       "      <td>0.5</td>\n",
       "      <td>0.0</td>\n",
       "      <td>0.0</td>\n",
       "      <td>0.0</td>\n",
       "      <td>0.021462</td>\n",
       "    </tr>\n",
       "    <tr>\n",
       "      <th>1</th>\n",
       "      <td>0.0</td>\n",
       "      <td>0.402778</td>\n",
       "      <td>0.0</td>\n",
       "      <td>0.667789</td>\n",
       "      <td>0.0</td>\n",
       "      <td>1.0</td>\n",
       "      <td>0.972543</td>\n",
       "      <td>1.0</td>\n",
       "      <td>0.8625</td>\n",
       "      <td>0.0</td>\n",
       "      <td>...</td>\n",
       "      <td>0.0</td>\n",
       "      <td>1.0</td>\n",
       "      <td>1.0</td>\n",
       "      <td>0.0</td>\n",
       "      <td>0.085827</td>\n",
       "      <td>1.0</td>\n",
       "      <td>0.0</td>\n",
       "      <td>0.0</td>\n",
       "      <td>0.0</td>\n",
       "      <td>0.227099</td>\n",
       "    </tr>\n",
       "    <tr>\n",
       "      <th>2</th>\n",
       "      <td>0.0</td>\n",
       "      <td>0.138889</td>\n",
       "      <td>0.0</td>\n",
       "      <td>0.385684</td>\n",
       "      <td>0.5</td>\n",
       "      <td>0.0</td>\n",
       "      <td>0.959969</td>\n",
       "      <td>1.0</td>\n",
       "      <td>0.4250</td>\n",
       "      <td>0.0</td>\n",
       "      <td>...</td>\n",
       "      <td>0.0</td>\n",
       "      <td>0.0</td>\n",
       "      <td>1.0</td>\n",
       "      <td>0.0</td>\n",
       "      <td>0.043341</td>\n",
       "      <td>0.0</td>\n",
       "      <td>0.0</td>\n",
       "      <td>0.0</td>\n",
       "      <td>0.0</td>\n",
       "      <td>0.049310</td>\n",
       "    </tr>\n",
       "    <tr>\n",
       "      <th>3</th>\n",
       "      <td>0.0</td>\n",
       "      <td>0.097222</td>\n",
       "      <td>0.0</td>\n",
       "      <td>0.582316</td>\n",
       "      <td>0.0</td>\n",
       "      <td>0.0</td>\n",
       "      <td>0.998502</td>\n",
       "      <td>1.0</td>\n",
       "      <td>0.6750</td>\n",
       "      <td>0.0</td>\n",
       "      <td>...</td>\n",
       "      <td>0.0</td>\n",
       "      <td>0.0</td>\n",
       "      <td>1.0</td>\n",
       "      <td>0.0</td>\n",
       "      <td>0.041473</td>\n",
       "      <td>1.0</td>\n",
       "      <td>0.0</td>\n",
       "      <td>0.0</td>\n",
       "      <td>0.0</td>\n",
       "      <td>0.053132</td>\n",
       "    </tr>\n",
       "    <tr>\n",
       "      <th>4</th>\n",
       "      <td>1.0</td>\n",
       "      <td>0.902778</td>\n",
       "      <td>1.0</td>\n",
       "      <td>0.914947</td>\n",
       "      <td>0.0</td>\n",
       "      <td>1.0</td>\n",
       "      <td>0.949568</td>\n",
       "      <td>1.0</td>\n",
       "      <td>0.6625</td>\n",
       "      <td>0.0</td>\n",
       "      <td>...</td>\n",
       "      <td>0.0</td>\n",
       "      <td>1.0</td>\n",
       "      <td>1.0</td>\n",
       "      <td>0.0</td>\n",
       "      <td>0.763650</td>\n",
       "      <td>1.0</td>\n",
       "      <td>0.0</td>\n",
       "      <td>1.0</td>\n",
       "      <td>1.0</td>\n",
       "      <td>0.806401</td>\n",
       "    </tr>\n",
       "  </tbody>\n",
       "</table>\n",
       "<p>5 rows × 28 columns</p>\n",
       "</div>"
      ],
      "text/plain": [
       "   Streaming Movies  Tenure in Months  Device_Protection_Plan  Monthly Charge  \\\n",
       "0               0.0          0.069444                     0.0        0.370947   \n",
       "1               0.0          0.402778                     0.0        0.667789   \n",
       "2               0.0          0.138889                     0.0        0.385684   \n",
       "3               0.0          0.097222                     0.0        0.582316   \n",
       "4               1.0          0.902778                     1.0        0.914947   \n",
       "\n",
       "   Payment Method  Multiple_Lines  Zip Code  Internet_Service     Age  \\\n",
       "0             0.5             0.0  0.972543               1.0  0.5750   \n",
       "1             0.0             1.0  0.972543               1.0  0.8625   \n",
       "2             0.5             0.0  0.959969               1.0  0.4250   \n",
       "3             0.0             0.0  0.998502               1.0  0.6750   \n",
       "4             0.0             1.0  0.949568               1.0  0.6625   \n",
       "\n",
       "   Number of Dependents  ...  Online_Backup  Premium _Tech _Support  \\\n",
       "0                   0.0  ...            0.0                     0.0   \n",
       "1                   0.0  ...            0.0                     1.0   \n",
       "2                   0.0  ...            0.0                     0.0   \n",
       "3                   0.0  ...            0.0                     0.0   \n",
       "4                   0.0  ...            0.0                     1.0   \n",
       "\n",
       "   Unlimited Data  Total Extra Data Charges  Total Long Distance Charges  \\\n",
       "0             1.0                       0.0                     0.015415   \n",
       "1             1.0                       0.0                     0.085827   \n",
       "2             1.0                       0.0                     0.043341   \n",
       "3             1.0                       0.0                     0.041473   \n",
       "4             1.0                       0.0                     0.763650   \n",
       "\n",
       "   Internet _Type  Total Refunds  Online_Security  Streaming Music  \\\n",
       "0             0.5            0.0              0.0              0.0   \n",
       "1             1.0            0.0              0.0              0.0   \n",
       "2             0.0            0.0              0.0              0.0   \n",
       "3             1.0            0.0              0.0              0.0   \n",
       "4             1.0            0.0              1.0              1.0   \n",
       "\n",
       "   Total Revenue  \n",
       "0       0.021462  \n",
       "1       0.227099  \n",
       "2       0.049310  \n",
       "3       0.053132  \n",
       "4       0.806401  \n",
       "\n",
       "[5 rows x 28 columns]"
      ]
     },
     "execution_count": 79,
     "metadata": {},
     "output_type": "execute_result"
    }
   ],
   "source": [
    "target_column = ['Customer_Status']\n",
    "predictors = list(set(list(df5.columns))-set(target_column))\n",
    "df[predictors] = df[predictors]/df[predictors].max()\n",
    "df.describe().transpose()\n",
    "df[predictors].head()\n"
   ]
  },
  {
   "cell_type": "code",
   "execution_count": 80,
   "id": "100aea6f",
   "metadata": {},
   "outputs": [
    {
     "name": "stdout",
     "output_type": "stream",
     "text": [
      "['Streaming Movies', 'Tenure in Months', 'Device_Protection_Plan', 'Monthly Charge', 'Payment Method', 'Multiple_Lines', 'Zip Code', 'Internet_Service', 'Age', 'Number of Dependents', 'Offer', 'Contract', 'PhoneService', 'Streaming TV', 'Married', 'Total Charges', 'Avg Monthly Long Distance Charges', 'Avg Monthly GB Download', 'Online_Backup', 'Premium _Tech _Support', 'Unlimited Data', 'Total Extra Data Charges', 'Total Long Distance Charges', 'Internet _Type', 'Total Refunds', 'Online_Security', 'Streaming Music', 'Total Revenue']\n",
      "28\n"
     ]
    }
   ],
   "source": [
    "print(predictors)\n",
    "print(len(predictors))"
   ]
  },
  {
   "cell_type": "code",
   "execution_count": 81,
   "id": "69ef5d47",
   "metadata": {},
   "outputs": [
    {
     "name": "stdout",
     "output_type": "stream",
     "text": [
      "(4930, 28)\n",
      "(2113, 28)\n"
     ]
    }
   ],
   "source": [
    "from sklearn.model_selection import train_test_split\n",
    "X = df[predictors].values\n",
    "y = df[target_column].values\n",
    "X_train, X_test, y_train, y_test = train_test_split(X, y, test_size=0.30)\n",
    "print(X_train.shape)\n",
    "print(X_test.shape)"
   ]
  },
  {
   "cell_type": "code",
   "execution_count": 86,
   "id": "c7ec02b4",
   "metadata": {},
   "outputs": [
    {
     "name": "stderr",
     "output_type": "stream",
     "text": [
      "C:\\Users\\ridam\\anaconda3\\lib\\site-packages\\sklearn\\neural_network\\_multilayer_perceptron.py:1109: DataConversionWarning: A column-vector y was passed when a 1d array was expected. Please change the shape of y to (n_samples, ), for example using ravel().\n",
      "  y = column_or_1d(y, warn=True)\n",
      "C:\\Users\\ridam\\anaconda3\\lib\\site-packages\\sklearn\\neural_network\\_multilayer_perceptron.py:692: ConvergenceWarning: Stochastic Optimizer: Maximum iterations (500) reached and the optimization hasn't converged yet.\n",
      "  warnings.warn(\n"
     ]
    }
   ],
   "source": [
    "from sklearn.neural_network import MLPClassifier\n",
    "\n",
    "mlp = MLPClassifier(hidden_layer_sizes=(28, 28), activation='logistic', solver='adam', max_iter=500)\n",
    "mlp.fit(X_train, y_train)\n",
    "\n",
    "predict_train = mlp.predict(X_train)\n",
    "predict_test = mlp.predict(X_test)\n",
    "#print(predict_test)\n"
   ]
  },
  {
   "cell_type": "code",
   "execution_count": 83,
   "id": "2c586cd5",
   "metadata": {},
   "outputs": [
    {
     "name": "stdout",
     "output_type": "stream",
     "text": [
      "[[ 783   87  434]\n",
      " [ 111  204    3]\n",
      " [ 159    0 3149]]\n",
      "              precision    recall  f1-score   support\n",
      "\n",
      "           0       0.74      0.60      0.66      1304\n",
      "           1       0.70      0.64      0.67       318\n",
      "           2       0.88      0.95      0.91      3308\n",
      "\n",
      "    accuracy                           0.84      4930\n",
      "   macro avg       0.77      0.73      0.75      4930\n",
      "weighted avg       0.83      0.84      0.83      4930\n",
      "\n"
     ]
    }
   ],
   "source": [
    "from sklearn.metrics import classification_report,confusion_matrix\n",
    "print(confusion_matrix(y_train,predict_train))\n",
    "print(classification_report(y_train,predict_train))"
   ]
  },
  {
   "cell_type": "code",
   "execution_count": 84,
   "id": "57095602",
   "metadata": {},
   "outputs": [
    {
     "name": "stdout",
     "output_type": "stream",
     "text": [
      "Accuracy: 0.8389452332657201\n"
     ]
    }
   ],
   "source": [
    "from sklearn.metrics import accuracy_score\n",
    "accuracy = accuracy_score(y_train, predict_train)\n",
    "print(\"Accuracy:\", accuracy)\n"
   ]
  },
  {
   "cell_type": "code",
   "execution_count": 85,
   "id": "fa3aaf7b",
   "metadata": {},
   "outputs": [
    {
     "name": "stdout",
     "output_type": "stream",
     "text": [
      "[0]\n"
     ]
    }
   ],
   "source": [
    "new_input = np.array([[46,0,0,93510,5,1,0,10.99,0,1,1,29,0,0,0,0,0,0,0,1,0,1,44.05,202.15,0.0,0,54.95,257.10]]) \n",
    "predicted_class = mlp.predict(new_input)\n",
    "print(predicted_class)"
   ]
  },
  {
   "cell_type": "code",
   "execution_count": null,
   "id": "bb8c0def",
   "metadata": {},
   "outputs": [],
   "source": []
  }
 ],
 "metadata": {
  "kernelspec": {
   "display_name": "Python 3 (ipykernel)",
   "language": "python",
   "name": "python3"
  },
  "language_info": {
   "codemirror_mode": {
    "name": "ipython",
    "version": 3
   },
   "file_extension": ".py",
   "mimetype": "text/x-python",
   "name": "python",
   "nbconvert_exporter": "python",
   "pygments_lexer": "ipython3",
   "version": "3.12.7"
  }
 },
 "nbformat": 4,
 "nbformat_minor": 5
}
